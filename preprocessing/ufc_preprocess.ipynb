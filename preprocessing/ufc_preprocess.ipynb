{
 "cells": [
  {
   "cell_type": "markdown",
   "metadata": {},
   "source": [
    "### Setup"
   ]
  },
  {
   "cell_type": "code",
   "execution_count": 1,
   "metadata": {},
   "outputs": [
    {
     "data": {
      "text/html": [
       "<style>.container { width:90% !important; }</style>"
      ],
      "text/plain": [
       "<IPython.core.display.HTML object>"
      ]
     },
     "metadata": {},
     "output_type": "display_data"
    }
   ],
   "source": [
    "import math\n",
    "import os\n",
    "import sys\n",
    "import pandas as pd\n",
    "import numpy as np\n",
    "from sklearn.decomposition import PCA\n",
    "from sklearn.preprocessing import StandardScaler\n",
    "from sklearn.manifold import TSNE\n",
    "sys.path.insert(1, os.getcwd().replace('preprocessing','')) # allows config import from one level above\n",
    "import config as cfg\n",
    "\n",
    "from IPython.core.display import display, HTML\n",
    "display(HTML(\"<style>.container { width:90% !important; }</style>\"))\n",
    "\n",
    "from IPython.core.interactiveshell import InteractiveShell\n",
    "InteractiveShell.ast_node_interactivity = \"all\" \n",
    "\n",
    "pd.set_option('display.max_columns', 500)\n",
    "pd.set_option('display.max_rows', 100)"
   ]
  },
  {
   "cell_type": "code",
   "execution_count": 2,
   "metadata": {},
   "outputs": [],
   "source": [
    "scrape_date = '2020-09-24' # date of scraped data, also used for saving respective combined and preprocessed dfs\n",
    "y_back = 20 # reverse time limit?\n",
    "next_date = 'Dec. 12, 2020' # next fight night date "
   ]
  },
  {
   "cell_type": "markdown",
   "metadata": {},
   "source": [
    "### Combine Matches, Fighters, Profiles and Planned Fights in 1  DF"
   ]
  },
  {
   "cell_type": "code",
   "execution_count": 3,
   "metadata": {},
   "outputs": [],
   "source": [
    "m = pd.read_csv(f\"{cfg.path_data_output}{scrape_date}_Matches_List.csv\")\n",
    "f = pd.read_csv(f\"{cfg.path_data_output}{scrape_date}_Fighters_List.csv\")\n",
    "p = pd.read_csv(f\"{cfg.path_data_output}{scrape_date}_Profiles_List.csv\")\n",
    "n = pd.read_csv(f\"{cfg.path_data_output}{scrape_date}_Plan_List.csv\")\n",
    "try:\n",
    "    f.drop('Unnamed: 0',axis=1,inplace=True)\n",
    "    p.drop('Unnamed: 0',axis=1,inplace=True)\n",
    "except: pass"
   ]
  },
  {
   "cell_type": "code",
   "execution_count": 6,
   "metadata": {},
   "outputs": [
    {
     "ename": "AssertionError",
     "evalue": "",
     "output_type": "error",
     "traceback": [
      "\u001b[1;31m---------------------------------------------------------------------------\u001b[0m",
      "\u001b[1;31mAssertionError\u001b[0m                            Traceback (most recent call last)",
      "\u001b[1;32m<ipython-input-6-0f5dc1f8a0ae>\u001b[0m in \u001b[0;36m<module>\u001b[1;34m\u001b[0m\n\u001b[1;32m----> 1\u001b[1;33m \u001b[1;32massert\u001b[0m \u001b[0mlen\u001b[0m\u001b[1;33m(\u001b[0m\u001b[0mm\u001b[0m\u001b[1;33m.\u001b[0m\u001b[0mMID\u001b[0m\u001b[1;33m.\u001b[0m\u001b[0mvalue_counts\u001b[0m\u001b[1;33m(\u001b[0m\u001b[1;33m)\u001b[0m\u001b[1;33m.\u001b[0m\u001b[0mvalue_counts\u001b[0m\u001b[1;33m(\u001b[0m\u001b[1;33m)\u001b[0m\u001b[1;33m)\u001b[0m \u001b[1;33m==\u001b[0m \u001b[1;36m1\u001b[0m \u001b[1;31m# every match has been scraped twice, error not crucial if something goes wrong\u001b[0m\u001b[1;33m\u001b[0m\u001b[1;33m\u001b[0m\u001b[0m\n\u001b[0m\u001b[0;32m      2\u001b[0m \u001b[0mm\u001b[0m\u001b[1;33m.\u001b[0m\u001b[0mMID\u001b[0m\u001b[1;33m.\u001b[0m\u001b[0mvalue_counts\u001b[0m\u001b[1;33m(\u001b[0m\u001b[1;33m)\u001b[0m\u001b[1;33m.\u001b[0m\u001b[0mvalue_counts\u001b[0m\u001b[1;33m(\u001b[0m\u001b[1;33m)\u001b[0m\u001b[1;33m\u001b[0m\u001b[1;33m\u001b[0m\u001b[0m\n",
      "\u001b[1;31mAssertionError\u001b[0m: "
     ]
    }
   ],
   "source": [
    "assert len(m.MID.value_counts().value_counts()) == 1 # every match has been scraped twice, error not crucial if something goes wrong just means some data is missing\n",
    "m.MID.value_counts().value_counts()"
   ]
  },
  {
   "cell_type": "code",
   "execution_count": 7,
   "metadata": {},
   "outputs": [],
   "source": [
    "# # ATTENTION MANUAL CORRECTION OF NAMES REQUIRED DUE TO MISTAKES ON UFC STATS PAGE -> Has been corrected by UFC\n",
    "\n",
    "# def fanual_correct(first_old,first_new, second):\n",
    "#     f.loc[(f.First == first_old)&(f.Last == second),'First'] = first_new\n",
    "\n",
    "\n",
    "# fanual_correct('Rogerio','Minotauro','Nogueira')\n",
    "\n",
    "# def manual_correct(name_old,name_new):\n",
    "#     m.loc[m.Fighter_1 == name_old,'Fighter_1'] = name_new\n",
    "#     m.loc[m.Fighter_2 == name_old,'Fighter_2'] = name_new\n",
    "#     n.loc[n.Fighter_1 == name_old,'Fighter_1'] = name_new\n",
    "#     n.loc[n.Fighter_2 == name_old,'Fighter_2'] = name_new\n",
    "    \n",
    "\n",
    "# manual_correct('Ronaldo Souza','Jacare Souza')\n",
    "# manual_correct('Rafael Cavalcante','Rafael Feijao')\n",
    "# manual_correct('Michael Chandler','Mike Chandler')\n",
    "# manual_correct('Mirko Filipovic','Mirko Cro Cop')\n",
    "# manual_correct('Quinton Jackson','Rampage Jackson')\n",
    "# manual_correct('Cristiane Justino','Cris Cyborg')\n",
    "# manual_correct('Antonio Rodrigo Nogueira','Minotauro Nogueira')\n",
    "# manual_correct('Rogerio Nogueira','Minotauro Nogueira')\n",
    "# manual_correct('Antonio Rogerio Nogueira','Minotauro Nogueira')\n",
    "# manual_correct('Antonio Rodrigo Nogueira','Minotauro Nogueira')"
   ]
  },
  {
   "cell_type": "code",
   "execution_count": 10,
   "metadata": {},
   "outputs": [],
   "source": [
    "# only QS\n",
    "# f[f.Last.str.startswith('T')].shape#.iloc[-15:]\n",
    "# for le in list('ABCDEFGHIJKLMNOPQRSTUVWXYZ'):\n",
    "#     f[f.Last.str.startswith(le)].iloc[0:3]"
   ]
  },
  {
   "cell_type": "code",
   "execution_count": 8,
   "metadata": {},
   "outputs": [],
   "source": [
    "n = n[n.duplicated(['Fighter_1'],keep=False)] # delete fights if only one fighter was scraped, e.g., new fighter\n",
    "n = n.sort_values('Fighter_1') # TODO: check why not keep FID -> better keep"
   ]
  },
  {
   "cell_type": "code",
   "execution_count": 11,
   "metadata": {},
   "outputs": [],
   "source": [
    "n = n[n.Fighter_1 != 'Error']\n",
    "n = n.reset_index(drop = True)"
   ]
  },
  {
   "cell_type": "code",
   "execution_count": 12,
   "metadata": {},
   "outputs": [],
   "source": [
    "n['MID'] = ['next_' + f'{i + (i+1)%2:03d}' for i in n.index]\n",
    "n['Date'] = next_date"
   ]
  },
  {
   "cell_type": "code",
   "execution_count": 13,
   "metadata": {},
   "outputs": [],
   "source": [
    "r = pd.merge(m,n, how = 'outer')"
   ]
  },
  {
   "cell_type": "code",
   "execution_count": 14,
   "metadata": {},
   "outputs": [],
   "source": [
    "r = pd.merge(r, f, on = 'FID') "
   ]
  },
  {
   "cell_type": "code",
   "execution_count": 15,
   "metadata": {},
   "outputs": [],
   "source": [
    "r = pd.merge(r, p.loc[:,['DOB','FID']]) # only add DOB"
   ]
  },
  {
   "cell_type": "code",
   "execution_count": 17,
   "metadata": {},
   "outputs": [],
   "source": [
    "assert m.MID.value_counts().sum() == m.shape[0] # QS"
   ]
  },
  {
   "cell_type": "code",
   "execution_count": 18,
   "metadata": {},
   "outputs": [],
   "source": [
    "assert r.shape[0] == m.shape[0]+n.shape[0] # QS"
   ]
  },
  {
   "cell_type": "code",
   "execution_count": 19,
   "metadata": {},
   "outputs": [],
   "source": [
    "assert r[r.MID.str.startswith('next')].shape[0] == n.shape[0] # QS"
   ]
  },
  {
   "cell_type": "markdown",
   "metadata": {},
   "source": [
    "### Preprocess DF for  Duplicates, Dataformats etc."
   ]
  },
  {
   "cell_type": "code",
   "execution_count": 20,
   "metadata": {},
   "outputs": [],
   "source": [
    "r.insert(2, 'Result', r['Result_F1'].replace({'W': 1, 'L': 0, 'NC':0.5,'D':0.5}), allow_duplicates=True) "
   ]
  },
  {
   "cell_type": "code",
   "execution_count": 21,
   "metadata": {},
   "outputs": [],
   "source": [
    "liste = list(r.columns[-11:])+['FID']"
   ]
  },
  {
   "cell_type": "code",
   "execution_count": 22,
   "metadata": {},
   "outputs": [],
   "source": [
    "for column in liste:\n",
    "    r[column+'_F1'] = ''\n",
    "for column in liste:\n",
    "    r[column+'_F2'] = ''"
   ]
  },
  {
   "cell_type": "code",
   "execution_count": 23,
   "metadata": {},
   "outputs": [],
   "source": [
    "for col in liste:\n",
    "    r[col+'_F1'] = [r[col][i] if r.Fighter_1[i] == str(r.First[i]) + ' ' +str(r.Last[i]) else None for i in r.index]\n",
    "    r[col+'_F2'] = [r[col][i] if r.Fighter_2[i] == str(r.First[i]) + ' ' +str(r.Last[i]) else None for i in r.index]"
   ]
  },
  {
   "cell_type": "code",
   "execution_count": 24,
   "metadata": {},
   "outputs": [
    {
     "data": {
      "text/plain": [
       "7801"
      ]
     },
     "execution_count": 24,
     "metadata": {},
     "output_type": "execute_result"
    }
   ],
   "source": [
    "# CHECK FOR INVALID NAMES HERE\n",
    "r.FID_F2.isna().sum()\n",
    "assert r[(r.FID_F2.isna())&(r.FID_F1.isna())].loc[:,['Fighter_1','Fighter_2','First','Last','Nick']].shape[0] == 0\n",
    "assert r[(r.FID_F2.isna())&(r.FID_F1.isna())].shape[0] == 0"
   ]
  },
  {
   "cell_type": "code",
   "execution_count": 25,
   "metadata": {},
   "outputs": [],
   "source": [
    "r.sort_values('MID',inplace = True)\n",
    "r.set_index('MID',inplace=True)\n",
    "r.drop_duplicates(inplace = True)\n",
    "r.reset_index(inplace=True)"
   ]
  },
  {
   "cell_type": "code",
   "execution_count": 26,
   "metadata": {},
   "outputs": [],
   "source": [
    "s1 = r.drop_duplicates('MID',keep='first').set_index('MID')\n",
    "s2 = r.drop_duplicates('MID',keep='last').set_index('MID')"
   ]
  },
  {
   "cell_type": "code",
   "execution_count": 27,
   "metadata": {},
   "outputs": [
    {
     "data": {
      "text/plain": [
       "2    7770\n",
       "1      79\n",
       "Name: MID, dtype: int64"
      ]
     },
     "execution_count": 27,
     "metadata": {},
     "output_type": "execute_result"
    }
   ],
   "source": [
    "r.MID.value_counts().value_counts()"
   ]
  },
  {
   "cell_type": "code",
   "execution_count": 28,
   "metadata": {},
   "outputs": [],
   "source": [
    "r = s1.combine_first(s2) # TODO: maybe throw away fighter were only one match side was available"
   ]
  },
  {
   "cell_type": "code",
   "execution_count": 29,
   "metadata": {},
   "outputs": [],
   "source": [
    "r.sort_values('MID',inplace = True)"
   ]
  },
  {
   "cell_type": "code",
   "execution_count": 30,
   "metadata": {},
   "outputs": [],
   "source": [
    "del s1\n",
    "del s2"
   ]
  },
  {
   "cell_type": "code",
   "execution_count": 31,
   "metadata": {},
   "outputs": [],
   "source": [
    "r.drop(['FID','First','Last','Nick','HT','WT','Reach','Stance','W','L','D','DOB'],axis = 1, inplace = True)"
   ]
  },
  {
   "cell_type": "code",
   "execution_count": 32,
   "metadata": {},
   "outputs": [],
   "source": [
    "r.Date = pd.to_datetime(r.Date, infer_datetime_format=True)"
   ]
  },
  {
   "cell_type": "code",
   "execution_count": 33,
   "metadata": {},
   "outputs": [],
   "source": [
    "r.loc[r.DOB_F1 == '--','DOB_F1'] = None\n",
    "r.loc[r.DOB_F2 == '--','DOB_F2'] = None"
   ]
  },
  {
   "cell_type": "code",
   "execution_count": 34,
   "metadata": {},
   "outputs": [],
   "source": [
    "r['DOB_F1'] = pd.to_datetime(r.DOB_F1, infer_datetime_format=True)\n",
    "r['DOB_F2'] = pd.to_datetime(r.DOB_F2, infer_datetime_format=True)"
   ]
  },
  {
   "cell_type": "code",
   "execution_count": 35,
   "metadata": {},
   "outputs": [],
   "source": [
    "r['HT_cm_F1'] = [(int(r.HT_F1.loc[i].split(\"'\")[0])*12+int(r.HT_F1.loc[i].split(\"'\")[1].replace('\"','').replace(' ','')))*2.54 if r.HT_F1.loc[i] != '--' and r.HT_F1.loc[i] == r.HT_F1.loc[i] and r.HT_F1.loc[i] != None else '' for i in r.index]\n",
    "r['HT_cm_F2'] = [(int(r.HT_F2.loc[i].split(\"'\")[0])*12+int(r.HT_F2.loc[i].split(\"'\")[1].replace('\"','').replace(' ','')))*2.54 if r.HT_F2.loc[i] != '--' and r.HT_F2.loc[i] == r.HT_F2.loc[i] and r.HT_F2.loc[i] != None else '' for i in r.index]"
   ]
  },
  {
   "cell_type": "code",
   "execution_count": 36,
   "metadata": {},
   "outputs": [],
   "source": [
    "r['Reach_cm_F1'] = [float(r.Reach_F1.loc[i].replace('\"',''))*2.54 if r.Reach_F1.loc[i] != '--' and r.Reach_F1.loc[i] == r.Reach_F1.loc[i] and r.Reach_F1.loc[i] != None else '' for i in r.index]\n",
    "r['Reach_cm_F2'] = [float(r.Reach_F2.loc[i].replace('\"',''))*2.54 if r.Reach_F2.loc[i] != '--' and r.Reach_F2.loc[i] == r.Reach_F2.loc[i] and r.Reach_F2.loc[i] != None else '' for i in r.index]"
   ]
  },
  {
   "cell_type": "code",
   "execution_count": 37,
   "metadata": {},
   "outputs": [],
   "source": [
    "r['WT_lbs_F1'] = [int(i.split(' ')[0]) if type(i) == str and i != '--' else None for i in r.WT_F1]\n",
    "r['WT_lbs_F2'] = [int(i.split(' ')[0]) if type(i) == str and i != '--' else None for i in r.WT_F2]"
   ]
  },
  {
   "cell_type": "code",
   "execution_count": 40,
   "metadata": {},
   "outputs": [],
   "source": [
    "r.to_csv(f\"{cfg.path_data_output}{scrape_date}_Combined.csv\")"
   ]
  },
  {
   "cell_type": "markdown",
   "metadata": {},
   "source": [
    "### Balance Wins vs. Losses"
   ]
  },
  {
   "cell_type": "code",
   "execution_count": 44,
   "metadata": {},
   "outputs": [],
   "source": [
    "r = pd.read_csv(f\"{cfg.path_data_output}{scrape_date}_Combined.csv\",index_col = 0)"
   ]
  },
  {
   "cell_type": "code",
   "execution_count": 45,
   "metadata": {},
   "outputs": [],
   "source": [
    "r.Date = pd.to_datetime(r.Date, infer_datetime_format=True)\n",
    "r['DOB_F1'] = pd.to_datetime(r.DOB_F1, infer_datetime_format=True)\n",
    "r['DOB_F2'] = pd.to_datetime(r.DOB_F2, infer_datetime_format=True)"
   ]
  },
  {
   "cell_type": "code",
   "execution_count": 46,
   "metadata": {},
   "outputs": [],
   "source": [
    "assert r.index.shape[0] == r.index.nunique()"
   ]
  },
  {
   "cell_type": "code",
   "execution_count": 47,
   "metadata": {},
   "outputs": [
    {
     "data": {
      "text/plain": [
       "29"
      ]
     },
     "execution_count": 47,
     "metadata": {},
     "output_type": "execute_result"
    },
    {
     "data": {
      "text/plain": [
       "4"
      ]
     },
     "execution_count": 47,
     "metadata": {},
     "output_type": "execute_result"
    },
    {
     "data": {
      "text/plain": [
       "Index(['W', 'L', 'NC', 'D', nan], dtype='object')"
      ]
     },
     "execution_count": 47,
     "metadata": {},
     "output_type": "execute_result"
    }
   ],
   "source": [
    "r.Result_F1.value_counts(dropna=False)[np.ix_(r.Result_F1.value_counts(dropna=False).index.isna())[0][0]]\n",
    "\n",
    "np.ix_(r.Result_F1.value_counts(dropna=False).index.isna())[0][0]\n",
    "r.Result_F1.value_counts(dropna=False).index"
   ]
  },
  {
   "cell_type": "code",
   "execution_count": 48,
   "metadata": {},
   "outputs": [],
   "source": [
    "s = int(r.Result_F1.value_counts()['W']-round((r.shape[0]-r.Result_F1.value_counts()['NC']-r.Result_F1.value_counts()['D']\\\n",
    "                                              -r.Result_F1.value_counts(dropna=False)[np.ix_(r.Result_F1.value_counts(dropna=False).index.isna())[0][0]])/2))\n",
    "sample = r[r.Result_F1 == 'W'].sample(s,random_state=42)\n",
    "rest = r.drop(sample.index,axis=0)"
   ]
  },
  {
   "cell_type": "code",
   "execution_count": 49,
   "metadata": {},
   "outputs": [
    {
     "data": {
      "text/plain": [
       "1826"
      ]
     },
     "execution_count": 49,
     "metadata": {},
     "output_type": "execute_result"
    },
    {
     "data": {
      "text/plain": [
       "W      5668\n",
       "L      2016\n",
       "NC       75\n",
       "D        61\n",
       "NaN      29\n",
       "Name: Result_F1, dtype: int64"
      ]
     },
     "execution_count": 49,
     "metadata": {},
     "output_type": "execute_result"
    }
   ],
   "source": [
    "s\n",
    "r.Result_F1.value_counts(dropna = False)"
   ]
  },
  {
   "cell_type": "code",
   "execution_count": 50,
   "metadata": {
    "scrolled": false
   },
   "outputs": [],
   "source": [
    "a = list(sample.loc[:,'Fighter_1':].columns)\n",
    "b = [i[:-1]+str(int(i[-1:])*-1+3) for i in a]"
   ]
  },
  {
   "cell_type": "code",
   "execution_count": 51,
   "metadata": {},
   "outputs": [],
   "source": [
    "dictionary = dict(zip(a, b))"
   ]
  },
  {
   "cell_type": "code",
   "execution_count": 52,
   "metadata": {},
   "outputs": [],
   "source": [
    "sample = sample.rename(columns=dictionary)"
   ]
  },
  {
   "cell_type": "code",
   "execution_count": 53,
   "metadata": {},
   "outputs": [],
   "source": [
    "sample.Result_F1 = 'L'\n",
    "sample.Result = 0"
   ]
  },
  {
   "cell_type": "code",
   "execution_count": 54,
   "metadata": {},
   "outputs": [],
   "source": [
    "frames = [rest,sample]\n",
    "r = pd.concat(frames,sort=False)"
   ]
  },
  {
   "cell_type": "code",
   "execution_count": 55,
   "metadata": {},
   "outputs": [
    {
     "data": {
      "text/html": [
       "<div>\n",
       "<style scoped>\n",
       "    .dataframe tbody tr th:only-of-type {\n",
       "        vertical-align: middle;\n",
       "    }\n",
       "\n",
       "    .dataframe tbody tr th {\n",
       "        vertical-align: top;\n",
       "    }\n",
       "\n",
       "    .dataframe thead th {\n",
       "        text-align: right;\n",
       "    }\n",
       "</style>\n",
       "<table border=\"1\" class=\"dataframe\">\n",
       "  <thead>\n",
       "    <tr style=\"text-align: right;\">\n",
       "      <th></th>\n",
       "      <th>Result</th>\n",
       "      <th>Fighter_1</th>\n",
       "      <th>Fighter_2</th>\n",
       "      <th>FID_F1</th>\n",
       "      <th>FID_F2</th>\n",
       "      <th>DOB_F1</th>\n",
       "      <th>DOB_F2</th>\n",
       "    </tr>\n",
       "    <tr>\n",
       "      <th>MID</th>\n",
       "      <th></th>\n",
       "      <th></th>\n",
       "      <th></th>\n",
       "      <th></th>\n",
       "      <th></th>\n",
       "      <th></th>\n",
       "      <th></th>\n",
       "    </tr>\n",
       "  </thead>\n",
       "  <tbody>\n",
       "    <tr>\n",
       "      <td>d395828f5cb045a5</td>\n",
       "      <td>0.0</td>\n",
       "      <td>Tony Ferguson</td>\n",
       "      <td>Justin Gaethje</td>\n",
       "      <td>935.0</td>\n",
       "      <td>1029.0</td>\n",
       "      <td>1984-02-12</td>\n",
       "      <td>1988-11-14</td>\n",
       "    </tr>\n",
       "  </tbody>\n",
       "</table>\n",
       "</div>"
      ],
      "text/plain": [
       "                  Result      Fighter_1       Fighter_2  FID_F1  FID_F2  \\\n",
       "MID                                                                       \n",
       "d395828f5cb045a5     0.0  Tony Ferguson  Justin Gaethje   935.0  1029.0   \n",
       "\n",
       "                     DOB_F1     DOB_F2  \n",
       "MID                                     \n",
       "d395828f5cb045a5 1984-02-12 1988-11-14  "
      ]
     },
     "execution_count": 55,
     "metadata": {},
     "output_type": "execute_result"
    }
   ],
   "source": [
    "r.sample()[['Result','Fighter_1','Fighter_2','FID_F1','FID_F2','DOB_F1','DOB_F2']]"
   ]
  },
  {
   "cell_type": "code",
   "execution_count": 56,
   "metadata": {},
   "outputs": [],
   "source": [
    "r.to_csv(f\"{cfg.path_data_output}{scrape_date}_balanced.csv\") "
   ]
  },
  {
   "cell_type": "markdown",
   "metadata": {},
   "source": [
    "###  Start from Balanced - Feature Engineering:\n",
    "- ~~Average Fight Time (Event Level)~~\n",
    "- ~~Age (Event Level)~~\n",
    "- ~~Win / Losses at Event Date ~~\n",
    "- ~~Strikes Landed per Min. (SLpM)~~\n",
    "- ~~Striking Accuracy~~\n",
    "- ~~Strikes Absorbed per Min. (SApM)~~\n",
    "- ~~Defense~~\n",
    "- ~~Takedowns Average/15 min.~~\n",
    "- ~~Takedown Accuracy~~\n",
    "- ~~Takedown Defense~~\n",
    "- ~~Submission Average/15 min.~~\n",
    "- ~~Time since last match~~\n",
    "- ~~ELO rate~~\n",
    "- ~~PCA / tSNE on Targeting etc.~~\n",
    "- Avg Ground etc. per Win seperate per Loss\n",
    "- Multiple encounters between same fighters\n",
    "- Kellys Criterium for Betting Amount Optimization\n"
   ]
  },
  {
   "cell_type": "code",
   "execution_count": 152,
   "metadata": {},
   "outputs": [],
   "source": [
    "r = pd.read_csv(f'D:/jasper/98_general_projects/03_UFC_Predictions/Data/{date}_balanced.csv',index_col = 0) # TODO: Pathes in confix auslagern\n",
    "r.loc[:,['Date','DOB_F1','DOB_F2']] = r.loc[:, ['Date','DOB_F1','DOB_F2']].apply(pd.to_datetime)"
   ]
  },
  {
   "cell_type": "code",
   "execution_count": 153,
   "metadata": {},
   "outputs": [
    {
     "data": {
      "text/plain": [
       "(7849, 87)"
      ]
     },
     "execution_count": 153,
     "metadata": {},
     "output_type": "execute_result"
    },
    {
     "data": {
      "text/plain": [
       "7849"
      ]
     },
     "execution_count": 153,
     "metadata": {},
     "output_type": "execute_result"
    },
    {
     "data": {
      "text/plain": [
       "W      3842\n",
       "L      3842\n",
       "NC       75\n",
       "D        61\n",
       "NaN      29\n",
       "Name: Result_F1, dtype: int64"
      ]
     },
     "execution_count": 153,
     "metadata": {},
     "output_type": "execute_result"
    }
   ],
   "source": [
    "r.shape\n",
    "r.index.nunique()\n",
    "r.Result_F1.value_counts(dropna=False)"
   ]
  },
  {
   "cell_type": "markdown",
   "metadata": {
    "heading_collapsed": true
   },
   "source": [
    "##### ELO Ranking"
   ]
  },
  {
   "cell_type": "code",
   "execution_count": 780,
   "metadata": {
    "code_folding": [],
    "collapsed": true,
    "hidden": true
   },
   "outputs": [
    {
     "data": {
      "text/plain": [
       "Result            44\n",
       "Result_F1         44\n",
       "Event             44\n",
       "Date               0\n",
       "Method            44\n",
       "Round             44\n",
       "Time              44\n",
       "Type              44\n",
       "T_Format          44\n",
       "Ref              326\n",
       "Details           44\n",
       "Fighter_1          0\n",
       "Fighter_2          0\n",
       "KD_1             376\n",
       "KD_2             376\n",
       "SigStr_e_1       376\n",
       "SigStr_t_1       376\n",
       "SigStr_e_2       376\n",
       "SigStr_t_2       376\n",
       "TotStr_e_1       376\n",
       "TotStr_t_1       376\n",
       "TotStr_e_2       376\n",
       "TotStr_t_2       376\n",
       "TD_e_1           376\n",
       "TD_t_1           376\n",
       "TD_e_2           376\n",
       "TD_t_2           376\n",
       "SUB_1            376\n",
       "SUB_2            376\n",
       "PASS_1           376\n",
       "PASS_2           376\n",
       "REV_1            376\n",
       "REV_2            376\n",
       "Head_e_1         376\n",
       "Head_t_1         376\n",
       "Head_e_2         376\n",
       "Head_t_2         376\n",
       "Body_e_1         376\n",
       "Body_t_1         376\n",
       "Body_e_2         376\n",
       "Body_t_2         376\n",
       "Leg_e_1          376\n",
       "Leg_t_1          376\n",
       "Leg_e_2          376\n",
       "Leg_t_2          376\n",
       "Distance_e_1     376\n",
       "Distance_t_1     376\n",
       "Distance_e_2     376\n",
       "Distance_t_2     376\n",
       "Clinch_e_1       376\n",
       "Clinch_t_1       376\n",
       "Clinch_e_2       376\n",
       "Clinch_t_2       376\n",
       "Ground_e_1       376\n",
       "Ground_t_1       376\n",
       "Ground_e_2       376\n",
       "Ground_t_2       376\n",
       "First_F1           0\n",
       "Last_F1            0\n",
       "Nick_F1         2406\n",
       "HT_F1              0\n",
       "WT_F1              0\n",
       "Reach_F1           0\n",
       "Stance_F1        424\n",
       "W_F1               0\n",
       "L_F1               0\n",
       "D_F1               0\n",
       "DOB_F1           390\n",
       "FID_F1             0\n",
       "First_F2           0\n",
       "Last_F2            0\n",
       "Nick_F2         2475\n",
       "HT_F2              0\n",
       "WT_F2              0\n",
       "Reach_F2           0\n",
       "Stance_F2        460\n",
       "W_F2               0\n",
       "L_F2               0\n",
       "D_F2               0\n",
       "DOB_F2           473\n",
       "FID_F2             0\n",
       "HT_cm_F1         115\n",
       "HT_cm_F2         135\n",
       "Reach_cm_F1     1476\n",
       "Reach_cm_F2     1776\n",
       "WT_lbs_F1         33\n",
       "WT_lbs_F2         38\n",
       "dtype: int64"
      ]
     },
     "execution_count": 780,
     "metadata": {},
     "output_type": "execute_result"
    }
   ],
   "source": [
    "r = r.sort_values('Date')\n",
    "r.isna().sum()"
   ]
  },
  {
   "cell_type": "code",
   "execution_count": 781,
   "metadata": {
    "code_folding": [
     0
    ],
    "hidden": true
   },
   "outputs": [],
   "source": [
    "# get Tracker for ELO values\n",
    "fids = list(pd.Series(pd.Series(list(r.FID_F1.unique())+list(r.FID_F2.unique())).unique()))\n",
    "tracker = pd.DataFrame([fids,[0]*len(fids)]).T\n",
    "tracker.columns = ['FID','elo']\n",
    "tracker.set_index('FID',inplace = True)\n",
    "tracker.sort_index(inplace = True)"
   ]
  },
  {
   "cell_type": "code",
   "execution_count": 782,
   "metadata": {
    "hidden": true
   },
   "outputs": [],
   "source": [
    "r['elo_F1'] = 0\n",
    "r['elo_F2'] = 0\n",
    "r['eloprob_F1'] = 0.5\n",
    "r['eloprob_F2'] = 0.5"
   ]
  },
  {
   "cell_type": "code",
   "execution_count": 783,
   "metadata": {
    "code_folding": [
     0
    ],
    "hidden": true
   },
   "outputs": [],
   "source": [
    "# get ELO\n",
    "for i in r.index:\n",
    "    fid1 = r.loc[i,'FID_F1']\n",
    "    fid2 = r.loc[i,'FID_F2']\n",
    "    \n",
    "    if fid1 == fid1: r.loc[i,'elo_F1'] = tracker.loc[fid1,'elo']\n",
    "    if fid2 == fid2: r.loc[i,'elo_F2'] = tracker.loc[fid2,'elo']\n",
    "    \n",
    "    r.loc[i,'eloprob_F1'] = 1/(1+10**((tracker.loc[fid2,'elo']-tracker.loc[fid1,'elo'])/400))\n",
    "    r.loc[i,'eloprob_F2'] = 1/(1+10**((tracker.loc[fid1,'elo']-tracker.loc[fid2,'elo'])/400))\n",
    "    \n",
    "    \n",
    "    if fid1 == fid1: tracker.loc[fid1,'elo'] = tracker.loc[fid1,'elo']+20*(r.loc[i,'Result']-r.loc[i,'eloprob_F1'])\n",
    "    if fid2 == fid2: tracker.loc[fid2,'elo'] = tracker.loc[fid2,'elo']+20*((r.loc[i,'Result']*-1+1)-r.loc[i,'eloprob_F1'])"
   ]
  },
  {
   "cell_type": "code",
   "execution_count": 784,
   "metadata": {
    "hidden": true
   },
   "outputs": [],
   "source": [
    "tracker = pd.merge(tracker,f.loc[:,'First':'Nick'],left_index=True,right_index=True) # Shape not identical, bc not all fighters have eventsb\n",
    "tracker.to_csv(f'{date}_elo_rankings.csv')"
   ]
  },
  {
   "cell_type": "code",
   "execution_count": 785,
   "metadata": {
    "hidden": true
   },
   "outputs": [],
   "source": [
    "# r[r.Fighter_2 == 'Khabib Nurmagomedov']\n",
    "# r.sort_values('elo_F1',ascending = False).head(30)[['Fighter_1','elo_F1']]\n",
    "# r.sort_values('elo_F2',ascending = False).head(30)[['Fighter_2','elo_F2']]"
   ]
  },
  {
   "cell_type": "markdown",
   "metadata": {
    "heading_collapsed": true
   },
   "source": [
    "##### Age, Length, W-H-R Deltas"
   ]
  },
  {
   "cell_type": "code",
   "execution_count": 786,
   "metadata": {
    "hidden": true
   },
   "outputs": [],
   "source": [
    "# Age at Fight\n",
    "r['age_F1'] = round((r.loc[:,'Date']-r.loc[:,'DOB_F1']).dt.days/365,1)\n",
    "r['age_F2'] = round((r.loc[:,'Date']-r.loc[:,'DOB_F2']).dt.days/365,1)"
   ]
  },
  {
   "cell_type": "code",
   "execution_count": 787,
   "metadata": {
    "code_folding": [],
    "collapsed": true,
    "hidden": true
   },
   "outputs": [
    {
     "name": "stdout",
     "output_type": "stream",
     "text": [
      "next_001\n",
      "next_021\n",
      "next_003\n",
      "next_005\n",
      "next_013\n",
      "next_009\n",
      "next_011\n",
      "next_019\n",
      "next_017\n",
      "next_015\n",
      "next_007\n",
      "next_063\n",
      "next_027\n",
      "next_025\n",
      "next_067\n",
      "next_069\n",
      "next_071\n",
      "next_061\n",
      "next_073\n",
      "next_075\n",
      "next_077\n",
      "next_079\n",
      "next_059\n",
      "next_083\n",
      "next_057\n",
      "next_055\n",
      "next_053\n",
      "next_023\n",
      "next_085\n",
      "next_051\n",
      "next_049\n",
      "next_047\n",
      "next_045\n",
      "next_043\n",
      "next_041\n",
      "next_039\n",
      "next_037\n",
      "next_035\n",
      "next_033\n",
      "next_031\n",
      "next_029\n",
      "next_065\n",
      "next_087\n",
      "next_081\n"
     ]
    }
   ],
   "source": [
    "# Length of Fight\n",
    "r['fight_time'] = None\n",
    "for i in r.index:\n",
    "    try:\n",
    "        if (r.loc[i,'T_Format'] == '3 Rnd (5-5-5)') or (r.loc[i,'T_Format'] == '5 Rnd (5-5-5-5-5)') or (r.loc[i,'T_Format'] == '2 Rnd (5-5)') or (r.loc[i,'T_Format'] == '3 Rnd + OT (5-5-5-5)'):\n",
    "            r.loc[i,'fight_time'] = (r.loc[i,'Round']-1)*5+int(r.loc[i,'Time'].split(':')[0])+float(r.loc[i,'Time'].split(':')[1])/60\n",
    "        elif (r.loc[i,'T_Format'] == '2 Rnd (10-5)') or (r.loc[i,'T_Format'] == '3 Rnd (10-5-5)'):\n",
    "            r.loc[i,'fight_time'] = (r.loc[i,'Round']-1)*10-max((r.loc[i,'Round']-2)*5,0)+int(r.loc[i,'Time'].split(':')[0])+float(r.loc[i,'Time'].split(':')[1])/60\n",
    "        elif (r.loc[i,'T_Format'] == '3 Rnd (3-3-3)') or (r.loc[i,'T_Format'] == '2 Rnd (3-3)') or (r.loc[i,'T_Format'] == '5 Rnd (3-3-3-3-3)'):\n",
    "            r.loc[i,'fight_time'] = (r.loc[i,'Round']-1)*3+int(r.loc[i,'Time'].split(':')[0])+float(r.loc[i,'Time'].split(':')[1])/60 \n",
    "        elif (r.loc[i,'T_Format'] == '3 Rnd (3-3-3)') or (r.loc[i,'T_Format'] == '2 Rnd (3-3)') or (r.loc[i,'T_Format'] == '5 Rnd (3-3-3-3-3)'):\n",
    "            r.loc[i,'fight_time'] = (r.loc[i,'Round']-1)*3+int(r.loc[i,'Time'].split(':')[0])+float(r.loc[i,'Time'].split(':')[1])/60 \n",
    "        elif (r.loc[i,'T_Format'] == '3 Rnd (4-4-4)') or (r.loc[i,'T_Format'] == '2 Rnd (4-4)') or (r.loc[i,'T_Format'] == '5 Rnd (4-4-4-4-4)'):\n",
    "            r.loc[i,'fight_time'] = (r.loc[i,'Round']-1)*4+int(r.loc[i,'Time'].split(':')[0])+float(r.loc[i,'Time'].split(':')[1])/60 \n",
    "        elif (r.loc[i,'T_Format'] == '2 Rnd (10-10)') or (r.loc[i,'T_Format'] == '3 Rnd (8-8-8) '):\n",
    "            r.loc[i,'fight_time'] = (r.loc[i,'Round']-1)*10+int(r.loc[i,'Time'].split(':')[0])+float(r.loc[i,'Time'].split(':')[1])/60 \n",
    "        elif (r.loc[i,'T_Format'] == '3 Rnd (2-2-2)'):\n",
    "            r.loc[i,'fight_time'] = (r.loc[i,'Round']-1)*2+int(r.loc[i,'Time'].split(':')[0])+float(r.loc[i,'Time'].split(':')[1])/60\n",
    "        elif (r.loc[i,'T_Format'] == '1 Rnd + OT (12-3)'):\n",
    "            r.loc[i,'fight_time'] = (r.loc[i,'Round']-1)*12+int(r.loc[i,'Time'].split(':')[0])+float(r.loc[i,'Time'].split(':')[1])/60\n",
    "        elif (r.loc[i,'T_Format'] == '3 Rnd (10-10-10)') or (r.loc[i,'T_Format'] == '3 Rnd (10-10-5)') or (r.loc[i,'T_Format'] == '4 Rnd (10-10-10-10)'):\n",
    "            r.loc[i,'fight_time'] = (r.loc[i,'Round']-1)*10+int(r.loc[i,'Time'].split(':')[0])+float(r.loc[i,'Time'].split(':')[1])/60\n",
    "        elif (r.loc[i,'T_Format'] == '1 Rnd + 2OT (15-3-3)') or (r.loc[i,'T_Format'] == '1 Rnd + OT (15-10)') or (r.loc[i,'T_Format'] == '1 Rnd + OT (15-3)'):\n",
    "            r.loc[i,'fight_time'] = (r.loc[i,'Round']-1)*15-max((r.loc[i,'Round']-2)*12,0)+int(r.loc[i,'Time'].split(':')[0])+float(r.loc[i,'Time'].split(':')[1])/60\n",
    "        elif (r.loc[i,'T_Format'] == '1 Rnd + OT (30-5)') or (r.loc[i,'T_Format'] == '1 Rnd + OT (31-5)') or (r.loc[i,'T_Format'] == '1 Rnd + OT (30-3)') or (r.loc[i,'T_Format'] == '1 Rnd + OT (27-3)'):\n",
    "            r.loc[i,'fight_time'] = (r.loc[i,'Round']-1)*30+int(r.loc[i,'Time'].split(':')[0])+float(r.loc[i,'Time'].split(':')[1])/60\n",
    "        else:\n",
    "            r.loc[i,'fight_time'] = int(r.loc[i,'Time'].split(':')[0])+float(r.loc[i,'Time'].split(':')[1])/60\n",
    "    except: print(i)\n",
    "\n",
    "r['fight_time'] = r.fight_time.astype('float64')\n",
    "r['fight_time'] = r.fight_time.round(decimals = 1)"
   ]
  },
  {
   "cell_type": "code",
   "execution_count": 788,
   "metadata": {
    "hidden": true
   },
   "outputs": [
    {
     "data": {
      "text/html": [
       "<div>\n",
       "<style scoped>\n",
       "    .dataframe tbody tr th:only-of-type {\n",
       "        vertical-align: middle;\n",
       "    }\n",
       "\n",
       "    .dataframe tbody tr th {\n",
       "        vertical-align: top;\n",
       "    }\n",
       "\n",
       "    .dataframe thead th {\n",
       "        text-align: right;\n",
       "    }\n",
       "</style>\n",
       "<table border=\"1\" class=\"dataframe\">\n",
       "  <thead>\n",
       "    <tr style=\"text-align: right;\">\n",
       "      <th></th>\n",
       "      <th>Result</th>\n",
       "      <th>Result_F1</th>\n",
       "      <th>Event</th>\n",
       "      <th>Date</th>\n",
       "      <th>Method</th>\n",
       "      <th>Round</th>\n",
       "      <th>Time</th>\n",
       "      <th>Type</th>\n",
       "      <th>T_Format</th>\n",
       "      <th>Ref</th>\n",
       "      <th>Details</th>\n",
       "      <th>Fighter_1</th>\n",
       "      <th>Fighter_2</th>\n",
       "      <th>KD_1</th>\n",
       "      <th>KD_2</th>\n",
       "      <th>SigStr_e_1</th>\n",
       "      <th>SigStr_t_1</th>\n",
       "      <th>SigStr_e_2</th>\n",
       "      <th>SigStr_t_2</th>\n",
       "      <th>TotStr_e_1</th>\n",
       "      <th>TotStr_t_1</th>\n",
       "      <th>TotStr_e_2</th>\n",
       "      <th>TotStr_t_2</th>\n",
       "      <th>TD_e_1</th>\n",
       "      <th>TD_t_1</th>\n",
       "      <th>TD_e_2</th>\n",
       "      <th>TD_t_2</th>\n",
       "      <th>SUB_1</th>\n",
       "      <th>SUB_2</th>\n",
       "      <th>PASS_1</th>\n",
       "      <th>PASS_2</th>\n",
       "      <th>REV_1</th>\n",
       "      <th>REV_2</th>\n",
       "      <th>Head_e_1</th>\n",
       "      <th>Head_t_1</th>\n",
       "      <th>Head_e_2</th>\n",
       "      <th>Head_t_2</th>\n",
       "      <th>Body_e_1</th>\n",
       "      <th>Body_t_1</th>\n",
       "      <th>Body_e_2</th>\n",
       "      <th>Body_t_2</th>\n",
       "      <th>Leg_e_1</th>\n",
       "      <th>Leg_t_1</th>\n",
       "      <th>Leg_e_2</th>\n",
       "      <th>Leg_t_2</th>\n",
       "      <th>Distance_e_1</th>\n",
       "      <th>Distance_t_1</th>\n",
       "      <th>Distance_e_2</th>\n",
       "      <th>Distance_t_2</th>\n",
       "      <th>Clinch_e_1</th>\n",
       "      <th>Clinch_t_1</th>\n",
       "      <th>Clinch_e_2</th>\n",
       "      <th>Clinch_t_2</th>\n",
       "      <th>Ground_e_1</th>\n",
       "      <th>Ground_t_1</th>\n",
       "      <th>Ground_e_2</th>\n",
       "      <th>Ground_t_2</th>\n",
       "      <th>First_F1</th>\n",
       "      <th>Last_F1</th>\n",
       "      <th>Nick_F1</th>\n",
       "      <th>HT_F1</th>\n",
       "      <th>WT_F1</th>\n",
       "      <th>Reach_F1</th>\n",
       "      <th>Stance_F1</th>\n",
       "      <th>W_F1</th>\n",
       "      <th>L_F1</th>\n",
       "      <th>D_F1</th>\n",
       "      <th>DOB_F1</th>\n",
       "      <th>FID_F1</th>\n",
       "      <th>First_F2</th>\n",
       "      <th>Last_F2</th>\n",
       "      <th>Nick_F2</th>\n",
       "      <th>HT_F2</th>\n",
       "      <th>WT_F2</th>\n",
       "      <th>Reach_F2</th>\n",
       "      <th>Stance_F2</th>\n",
       "      <th>W_F2</th>\n",
       "      <th>L_F2</th>\n",
       "      <th>D_F2</th>\n",
       "      <th>DOB_F2</th>\n",
       "      <th>FID_F2</th>\n",
       "      <th>HT_cm_F1</th>\n",
       "      <th>HT_cm_F2</th>\n",
       "      <th>Reach_cm_F1</th>\n",
       "      <th>Reach_cm_F2</th>\n",
       "      <th>WT_lbs_F1</th>\n",
       "      <th>WT_lbs_F2</th>\n",
       "      <th>elo_F1</th>\n",
       "      <th>elo_F2</th>\n",
       "      <th>eloprob_F1</th>\n",
       "      <th>eloprob_F2</th>\n",
       "      <th>age_F1</th>\n",
       "      <th>age_F2</th>\n",
       "      <th>fight_time</th>\n",
       "    </tr>\n",
       "    <tr>\n",
       "      <th>MID</th>\n",
       "      <th></th>\n",
       "      <th></th>\n",
       "      <th></th>\n",
       "      <th></th>\n",
       "      <th></th>\n",
       "      <th></th>\n",
       "      <th></th>\n",
       "      <th></th>\n",
       "      <th></th>\n",
       "      <th></th>\n",
       "      <th></th>\n",
       "      <th></th>\n",
       "      <th></th>\n",
       "      <th></th>\n",
       "      <th></th>\n",
       "      <th></th>\n",
       "      <th></th>\n",
       "      <th></th>\n",
       "      <th></th>\n",
       "      <th></th>\n",
       "      <th></th>\n",
       "      <th></th>\n",
       "      <th></th>\n",
       "      <th></th>\n",
       "      <th></th>\n",
       "      <th></th>\n",
       "      <th></th>\n",
       "      <th></th>\n",
       "      <th></th>\n",
       "      <th></th>\n",
       "      <th></th>\n",
       "      <th></th>\n",
       "      <th></th>\n",
       "      <th></th>\n",
       "      <th></th>\n",
       "      <th></th>\n",
       "      <th></th>\n",
       "      <th></th>\n",
       "      <th></th>\n",
       "      <th></th>\n",
       "      <th></th>\n",
       "      <th></th>\n",
       "      <th></th>\n",
       "      <th></th>\n",
       "      <th></th>\n",
       "      <th></th>\n",
       "      <th></th>\n",
       "      <th></th>\n",
       "      <th></th>\n",
       "      <th></th>\n",
       "      <th></th>\n",
       "      <th></th>\n",
       "      <th></th>\n",
       "      <th></th>\n",
       "      <th></th>\n",
       "      <th></th>\n",
       "      <th></th>\n",
       "      <th></th>\n",
       "      <th></th>\n",
       "      <th></th>\n",
       "      <th></th>\n",
       "      <th></th>\n",
       "      <th></th>\n",
       "      <th></th>\n",
       "      <th></th>\n",
       "      <th></th>\n",
       "      <th></th>\n",
       "      <th></th>\n",
       "      <th></th>\n",
       "      <th></th>\n",
       "      <th></th>\n",
       "      <th></th>\n",
       "      <th></th>\n",
       "      <th></th>\n",
       "      <th></th>\n",
       "      <th></th>\n",
       "      <th></th>\n",
       "      <th></th>\n",
       "      <th></th>\n",
       "      <th></th>\n",
       "      <th></th>\n",
       "      <th></th>\n",
       "      <th></th>\n",
       "      <th></th>\n",
       "      <th></th>\n",
       "      <th></th>\n",
       "      <th></th>\n",
       "      <th></th>\n",
       "      <th></th>\n",
       "      <th></th>\n",
       "      <th></th>\n",
       "      <th></th>\n",
       "      <th></th>\n",
       "      <th></th>\n",
       "    </tr>\n",
       "  </thead>\n",
       "  <tbody>\n",
       "    <tr>\n",
       "      <th>next_061</th>\n",
       "      <td>NaN</td>\n",
       "      <td>NaN</td>\n",
       "      <td>NaN</td>\n",
       "      <td>2020-04-18</td>\n",
       "      <td>NaN</td>\n",
       "      <td>NaN</td>\n",
       "      <td>NaN</td>\n",
       "      <td>NaN</td>\n",
       "      <td>NaN</td>\n",
       "      <td>NaN</td>\n",
       "      <td>NaN</td>\n",
       "      <td>Khabib Nurmagomedov</td>\n",
       "      <td>Tony Ferguson</td>\n",
       "      <td>NaN</td>\n",
       "      <td>NaN</td>\n",
       "      <td>NaN</td>\n",
       "      <td>NaN</td>\n",
       "      <td>NaN</td>\n",
       "      <td>NaN</td>\n",
       "      <td>NaN</td>\n",
       "      <td>NaN</td>\n",
       "      <td>NaN</td>\n",
       "      <td>NaN</td>\n",
       "      <td>NaN</td>\n",
       "      <td>NaN</td>\n",
       "      <td>NaN</td>\n",
       "      <td>NaN</td>\n",
       "      <td>NaN</td>\n",
       "      <td>NaN</td>\n",
       "      <td>NaN</td>\n",
       "      <td>NaN</td>\n",
       "      <td>NaN</td>\n",
       "      <td>NaN</td>\n",
       "      <td>NaN</td>\n",
       "      <td>NaN</td>\n",
       "      <td>NaN</td>\n",
       "      <td>NaN</td>\n",
       "      <td>NaN</td>\n",
       "      <td>NaN</td>\n",
       "      <td>NaN</td>\n",
       "      <td>NaN</td>\n",
       "      <td>NaN</td>\n",
       "      <td>NaN</td>\n",
       "      <td>NaN</td>\n",
       "      <td>NaN</td>\n",
       "      <td>NaN</td>\n",
       "      <td>NaN</td>\n",
       "      <td>NaN</td>\n",
       "      <td>NaN</td>\n",
       "      <td>NaN</td>\n",
       "      <td>NaN</td>\n",
       "      <td>NaN</td>\n",
       "      <td>NaN</td>\n",
       "      <td>NaN</td>\n",
       "      <td>NaN</td>\n",
       "      <td>NaN</td>\n",
       "      <td>NaN</td>\n",
       "      <td>Khabib</td>\n",
       "      <td>Nurmagomedov</td>\n",
       "      <td>The Eagle</td>\n",
       "      <td>5' 10\"</td>\n",
       "      <td>155 lbs.</td>\n",
       "      <td>70.0\"</td>\n",
       "      <td>Orthodox</td>\n",
       "      <td>28.0</td>\n",
       "      <td>0.0</td>\n",
       "      <td>0.0</td>\n",
       "      <td>1988-09-20</td>\n",
       "      <td>2217.0</td>\n",
       "      <td>Tony</td>\n",
       "      <td>Ferguson</td>\n",
       "      <td>El Cucuy</td>\n",
       "      <td>5' 11\"</td>\n",
       "      <td>155 lbs.</td>\n",
       "      <td>76.0\"</td>\n",
       "      <td>Orthodox</td>\n",
       "      <td>26.0</td>\n",
       "      <td>3.0</td>\n",
       "      <td>0.0</td>\n",
       "      <td>1984-02-12</td>\n",
       "      <td>896.0</td>\n",
       "      <td>177.8</td>\n",
       "      <td>180.34</td>\n",
       "      <td>177.8</td>\n",
       "      <td>193.04</td>\n",
       "      <td>155.0</td>\n",
       "      <td>155.0</td>\n",
       "      <td>118.522741</td>\n",
       "      <td>137.255355</td>\n",
       "      <td>0.473068</td>\n",
       "      <td>0.526932</td>\n",
       "      <td>31.6</td>\n",
       "      <td>36.2</td>\n",
       "      <td>NaN</td>\n",
       "    </tr>\n",
       "  </tbody>\n",
       "</table>\n",
       "</div>"
      ],
      "text/plain": [
       "          Result Result_F1 Event       Date Method  Round Time Type T_Format  \\\n",
       "MID                                                                            \n",
       "next_061     NaN       NaN   NaN 2020-04-18    NaN    NaN  NaN  NaN      NaN   \n",
       "\n",
       "          Ref Details            Fighter_1      Fighter_2  KD_1  KD_2  \\\n",
       "MID                                                                     \n",
       "next_061  NaN     NaN  Khabib Nurmagomedov  Tony Ferguson   NaN   NaN   \n",
       "\n",
       "          SigStr_e_1  SigStr_t_1  SigStr_e_2  SigStr_t_2  TotStr_e_1  \\\n",
       "MID                                                                    \n",
       "next_061         NaN         NaN         NaN         NaN         NaN   \n",
       "\n",
       "          TotStr_t_1  TotStr_e_2  TotStr_t_2  TD_e_1  TD_t_1  TD_e_2  TD_t_2  \\\n",
       "MID                                                                            \n",
       "next_061         NaN         NaN         NaN     NaN     NaN     NaN     NaN   \n",
       "\n",
       "          SUB_1  SUB_2  PASS_1  PASS_2  REV_1  REV_2  Head_e_1  Head_t_1  \\\n",
       "MID                                                                        \n",
       "next_061    NaN    NaN     NaN     NaN    NaN    NaN       NaN       NaN   \n",
       "\n",
       "          Head_e_2  Head_t_2  Body_e_1  Body_t_1  Body_e_2  Body_t_2  Leg_e_1  \\\n",
       "MID                                                                             \n",
       "next_061       NaN       NaN       NaN       NaN       NaN       NaN      NaN   \n",
       "\n",
       "          Leg_t_1  Leg_e_2  Leg_t_2  Distance_e_1  Distance_t_1  Distance_e_2  \\\n",
       "MID                                                                             \n",
       "next_061      NaN      NaN      NaN           NaN           NaN           NaN   \n",
       "\n",
       "          Distance_t_2  Clinch_e_1  Clinch_t_1  Clinch_e_2  Clinch_t_2  \\\n",
       "MID                                                                      \n",
       "next_061           NaN         NaN         NaN         NaN         NaN   \n",
       "\n",
       "          Ground_e_1  Ground_t_1  Ground_e_2  Ground_t_2 First_F1  \\\n",
       "MID                                                                 \n",
       "next_061         NaN         NaN         NaN         NaN   Khabib   \n",
       "\n",
       "               Last_F1    Nick_F1   HT_F1     WT_F1 Reach_F1 Stance_F1  W_F1  \\\n",
       "MID                                                                            \n",
       "next_061  Nurmagomedov  The Eagle  5' 10\"  155 lbs.    70.0\"  Orthodox  28.0   \n",
       "\n",
       "          L_F1  D_F1     DOB_F1  FID_F1 First_F2   Last_F2   Nick_F2   HT_F2  \\\n",
       "MID                                                                            \n",
       "next_061   0.0   0.0 1988-09-20  2217.0     Tony  Ferguson  El Cucuy  5' 11\"   \n",
       "\n",
       "             WT_F2 Reach_F2 Stance_F2  W_F2  L_F2  D_F2     DOB_F2  FID_F2  \\\n",
       "MID                                                                          \n",
       "next_061  155 lbs.    76.0\"  Orthodox  26.0   3.0   0.0 1984-02-12   896.0   \n",
       "\n",
       "          HT_cm_F1  HT_cm_F2  Reach_cm_F1  Reach_cm_F2  WT_lbs_F1  WT_lbs_F2  \\\n",
       "MID                                                                            \n",
       "next_061     177.8    180.34        177.8       193.04      155.0      155.0   \n",
       "\n",
       "              elo_F1      elo_F2  eloprob_F1  eloprob_F2  age_F1  age_F2  \\\n",
       "MID                                                                        \n",
       "next_061  118.522741  137.255355    0.473068    0.526932    31.6    36.2   \n",
       "\n",
       "          fight_time  \n",
       "MID                   \n",
       "next_061         NaN  "
      ]
     },
     "execution_count": 788,
     "metadata": {},
     "output_type": "execute_result"
    }
   ],
   "source": [
    "r.loc[['next_061']]"
   ]
  },
  {
   "cell_type": "code",
   "execution_count": 789,
   "metadata": {
    "code_folding": [],
    "hidden": true
   },
   "outputs": [],
   "source": [
    "# get deltas\n",
    "r['delta_h'] = r.HT_cm_F1-r.HT_cm_F2\n",
    "# r['delta_w'] = r.WT_lbs_F1 - r.WT_lbs_F2\n",
    "r['delta_r'] = r.Reach_cm_F1 - r.Reach_cm_F2"
   ]
  },
  {
   "cell_type": "markdown",
   "metadata": {
    "heading_collapsed": true
   },
   "source": [
    "##### Basic Fight History for Strikes, Grappling, Submissions"
   ]
  },
  {
   "cell_type": "code",
   "execution_count": 790,
   "metadata": {
    "code_folding": [
     0
    ],
    "hidden": true
   },
   "outputs": [],
   "source": [
    "# cols for history fight stats\n",
    "cols = ['w2d','l2d','time_avg','slpm_avg','stracc_avg','sapm_avg','def_avg','td_avg','tdacc_avg','tddef_avg','sub_avg','lastfight','fight_count']\n",
    "cols = [i+'_F1' for i in cols] + [i+'_F2' for i in cols]\n",
    "for c in cols:\n",
    "    r[c] = None"
   ]
  },
  {
   "cell_type": "code",
   "execution_count": 792,
   "metadata": {
    "code_folding": [
     0
    ],
    "hidden": true
   },
   "outputs": [],
   "source": [
    "# function for retrieving weighted history fight stats\n",
    "def past_fight_stats(fid, mdate, years_back):\n",
    "    sub = r[((r.FID_F1 == fid)|(r.FID_F2 == fid))&(r.Date < mdate)&(r.Date > mdate-pd.DateOffset(years=years_back))].sort_values('Date')\n",
    "\n",
    "    # get avg fight time\n",
    "    time_avg = sub.fight_time.mean()\n",
    "\n",
    "    try:\n",
    "        # get outside UFC results to add later on\n",
    "        if r[(r.FID_F1 == fid)].shape[0] != 0:    \n",
    "            non_ufc_w = r.loc[r.FID_F1 == fid,'W_F1'].iloc[0]-r.loc[r.FID_F1 == fid,'Result'].sum()-(r.loc[r.FID_F2 == fid,'Result']*-1+1).sum()\n",
    "            non_ufc_l = r.loc[r.FID_F1 == fid,'L_F1'].iloc[0]-r.loc[r.FID_F2 == fid,'Result'].sum()-(r.loc[r.FID_F1 == fid,'Result']*-1+1).sum()\n",
    "        else:  \n",
    "            non_ufc_w = r.loc[r.FID_F2 == fid,'W_F2'].iloc[0]-(r.loc[r.FID_F2 == fid,'Result']*-1+1).sum()\n",
    "            non_ufc_l = r.loc[r.FID_F2 == fid,'L_F2'].iloc[0]-r.loc[r.FID_F2 == fid,'Result'].sum()\n",
    "    except:\n",
    "        non_ufc_w, non_ufc_l = 0, 0\n",
    "\n",
    "\n",
    "    # get win and losses inside ufc plus outside\n",
    "    w2d = sub.loc[sub.FID_F1 == fid,'Result'].sum()+(sub.loc[sub.FID_F2 == fid,'Result']*-1+1).sum() + non_ufc_w\n",
    "    l2d = sub.loc[sub.FID_F2 == fid,'Result'].sum()+(sub.loc[sub.FID_F1 == fid,'Result']*-1+1).sum() + non_ufc_l\n",
    "\n",
    "    if time_avg == time_avg:\n",
    "        \n",
    "        # strike measures POTENTIAL WEIGHING BY OPPONENT OR TIME\n",
    "        # Active Strike Measures\n",
    "        try:\n",
    "            sigstr_t = sub.loc[sub.FID_F1 == fid,'SigStr_t_1'].sum() + sub.loc[sub.FID_F2 == fid,'SigStr_t_2'].sum()\n",
    "            sigstr_e = sub.loc[sub.FID_F1 == fid,'SigStr_e_1'].sum() + sub.loc[sub.FID_F2 == fid,'SigStr_e_2'].sum()\n",
    "            stracc_avg = sigstr_e/sigstr_t\n",
    "            slpm_avg = sigstr_e/math.ceil(sub.fight_time.sum())\n",
    "        except:\n",
    "            stracc_avg, slpm_avg = 0, 0\n",
    "\n",
    "        # Passive Strike Measures\n",
    "        try:\n",
    "            oppss_t = sub.loc[sub.FID_F1 == fid,'SigStr_t_2'].sum() + sub.loc[sub.FID_F2 == fid,'SigStr_t_1'].sum()\n",
    "            oppss_e = sub.loc[sub.FID_F1 == fid,'SigStr_e_2'].sum() + sub.loc[sub.FID_F2 == fid,'SigStr_e_1'].sum()\n",
    "            def_avg = (oppss_t-oppss_e)/oppss_t\n",
    "            sapm_avg = oppss_e/math.ceil(sub.fight_time.sum())\n",
    "        except:\n",
    "            def_avg, sapm_avg = None, 0\n",
    "\n",
    "        # Grappling Measures\n",
    "        # Active Takedown\n",
    "        try:\n",
    "            td_e = sub.loc[sub.FID_F1 == fid,'TD_e_1'].sum() + sub.loc[sub.FID_F2 == fid,'TD_e_2'].sum()\n",
    "            td_t = sub.loc[sub.FID_F1 == fid,'TD_t_1'].sum() + sub.loc[sub.FID_F2 == fid,'TD_t_2'].sum()\n",
    "            td_avg = td_e*15/math.ceil(sub.fight_time.sum())\n",
    "            tdacc_avg = td_e/td_t\n",
    "        except:\n",
    "            tdacc_avg, td_avg = None, 0\n",
    "\n",
    "        # Defense Takedown\n",
    "        try:\n",
    "            optd_e = sub.loc[sub.FID_F1 == fid,'TD_e_2'].sum() + sub.loc[sub.FID_F2 == fid,'TD_e_1'].sum()\n",
    "            optd_t = sub.loc[sub.FID_F1 == fid,'TD_t_2'].sum() + sub.loc[sub.FID_F2 == fid,'TD_t_1'].sum()\n",
    "            tddef_avg = (optd_t-optd_e)/optd_t\n",
    "        except:\n",
    "            tddef_avg = None\n",
    "\n",
    "        # Submissions\n",
    "        try:\n",
    "            sub_avg = (sub.loc[sub.FID_F1 == fid,'SUB_1'].sum() + sub.loc[sub.FID_F2 == fid,'SUB_2'].sum())*15/math.ceil(sub.fight_time.sum())\n",
    "        except:\n",
    "            sub_avg = 0\n",
    "            \n",
    "        try:\n",
    "            lastfight = round((mdate-sub.Date.max()).days*12/365,1)\n",
    "        except:\n",
    "            lastfight = None\n",
    "    \n",
    "    else:\n",
    "        time_avg,slpm_avg,stracc_avg,sapm_avg,def_avg,td_avg,tdacc_avg,tddef_avg,sub_avg,lastfight = [None]*10\n",
    "        \n",
    "    return  [w2d,l2d,time_avg,slpm_avg,stracc_avg,sapm_avg,def_avg,td_avg,tdacc_avg,tddef_avg,sub_avg,lastfight,sub.shape[0]]"
   ]
  },
  {
   "cell_type": "code",
   "execution_count": 794,
   "metadata": {
    "code_folding": [],
    "hidden": true
   },
   "outputs": [
    {
     "name": "stderr",
     "output_type": "stream",
     "text": [
      "D:\\jasper\\conda\\envs\\tf_gpu\\lib\\site-packages\\ipykernel_launcher.py:40: RuntimeWarning: invalid value encountered in double_scalars\n",
      "D:\\jasper\\conda\\envs\\tf_gpu\\lib\\site-packages\\ipykernel_launcher.py:51: RuntimeWarning: invalid value encountered in double_scalars\n",
      "D:\\jasper\\conda\\envs\\tf_gpu\\lib\\site-packages\\ipykernel_launcher.py:59: RuntimeWarning: invalid value encountered in double_scalars\n",
      "D:\\jasper\\conda\\envs\\tf_gpu\\lib\\site-packages\\ipykernel_launcher.py:31: RuntimeWarning: invalid value encountered in double_scalars\n"
     ]
    }
   ],
   "source": [
    "# loop through df to get history fight stats\n",
    "for i in r.index:\n",
    "    r.loc[i,'w2d_F1':'fight_count_F1'] = past_fight_stats(r.loc[i,'FID_F1'],r.loc[i,'Date'],y_back)\n",
    "    r.loc[i,'w2d_F2':'fight_count_F2'] = past_fight_stats(r.loc[i,'FID_F2'],r.loc[i,'Date'],y_back)\n",
    "    "
   ]
  },
  {
   "cell_type": "code",
   "execution_count": 340,
   "metadata": {
    "hidden": true
   },
   "outputs": [],
   "source": [
    "# fid = r.loc['5655639baecd8f6a','FID_F1']\n",
    "# years_back = 20\n",
    "# mdate =r.loc['5655639baecd8f6a','Date']\n",
    "# sub = r[((r.FID_F1 == fid)|(r.FID_F2 == fid))&(r.Date < mdate)&(r.Date > mdate-pd.DateOffset(years=years_back))].sort_values('Date')"
   ]
  },
  {
   "cell_type": "markdown",
   "metadata": {
    "heading_collapsed": true
   },
   "source": [
    "##### Detail Fight History (Target, Position, Round)"
   ]
  },
  {
   "cell_type": "code",
   "execution_count": 799,
   "metadata": {
    "code_folding": [],
    "hidden": true
   },
   "outputs": [],
   "source": [
    "# cols for detail fight stats\n",
    "cols = [i.replace('_e_','_perT_') if '_e_' in i else i.replace('_t_','_acc_') for i in r.loc[:,'Head_e_1':'Ground_t_2'].columns] + [i.replace('_','_perT_') for i in r.loc[:,'PASS_1':'REV_2'].columns]\n",
    "cols.append('KD_perT_1'); cols.append('KD_perT_2'); \n",
    "for c in cols:\n",
    "    r[c] = None"
   ]
  },
  {
   "cell_type": "code",
   "execution_count": 800,
   "metadata": {
    "hidden": true
   },
   "outputs": [],
   "source": [
    "# function for retrieving history fight stats\n",
    "def past_fight_dets(fid, mdate, years_back):\n",
    "\n",
    "    sub = r[((r.FID_F1 == fid)|(r.FID_F2 == fid))&(r.Date < mdate)&(r.Date > mdate-pd.DateOffset(years=years_back))].sort_values('Date')\n",
    "    \n",
    "    if sub.shape[0] != 0:\n",
    "\n",
    "        try:\n",
    "            ht = sub.loc[sub.FID_F1 == fid,'Head_t_1'].sum() + sub.loc[sub.FID_F2 == fid,'Head_t_2'].sum()\n",
    "            he = sub.loc[sub.FID_F1 == fid,'Head_e_1'].sum() + sub.loc[sub.FID_F2 == fid,'Head_e_2'].sum()\n",
    "            Head_acc = he/ht\n",
    "            Head_perT = he*5/math.ceil(sub.fight_time.sum())\n",
    "        except:\n",
    "            Head_acc, Head_perT = None, 0\n",
    "\n",
    "        try:\n",
    "            bt = sub.loc[sub.FID_F1 == fid,'Body_t_1'].sum() + sub.loc[sub.FID_F2 == fid,'Body_t_2'].sum()\n",
    "            be = sub.loc[sub.FID_F1 == fid,'Body_e_1'].sum() + sub.loc[sub.FID_F2 == fid,'Body_e_2'].sum()\n",
    "            Body_acc = be/bt\n",
    "            Body_perT = be*5/math.ceil(sub.fight_time.sum())\n",
    "        except:\n",
    "            Body_acc, Body_perT = None, 0\n",
    "\n",
    "        try:\n",
    "            lt = sub.loc[sub.FID_F1 == fid,'Leg_t_1'].sum() + sub.loc[sub.FID_F2 == fid,'Leg_t_2'].sum()\n",
    "            le = sub.loc[sub.FID_F1 == fid,'Leg_e_1'].sum() + sub.loc[sub.FID_F2 == fid,'Leg_e_2'].sum()\n",
    "            Leg_acc = le/lt\n",
    "            Leg_perT = le*5/math.ceil(sub.fight_time.sum())\n",
    "        except:\n",
    "            Leg_acc, Leg_perT = None, 0\n",
    "\n",
    "        try:\n",
    "            dt = sub.loc[sub.FID_F1 == fid,'Distance_t_1'].sum() + sub.loc[sub.FID_F2 == fid,'Distance_t_2'].sum()\n",
    "            de = sub.loc[sub.FID_F1 == fid,'Distance_e_1'].sum() + sub.loc[sub.FID_F2 == fid,'Distance_e_2'].sum()\n",
    "            Distance_acc = de/dt\n",
    "            Distance_perT = de*5/math.ceil(sub.fight_time.sum())\n",
    "        except:\n",
    "            Distance_acc, Distance_perT = None, 0\n",
    "\n",
    "        try:\n",
    "            ct = sub.loc[sub.FID_F1 == fid,'Clinch_t_1'].sum() + sub.loc[sub.FID_F2 == fid,'Clinch_t_2'].sum()\n",
    "            ce = sub.loc[sub.FID_F1 == fid,'Clinch_e_1'].sum() + sub.loc[sub.FID_F2 == fid,'Clinch_e_2'].sum()\n",
    "            Clinch_acc = ce/ct\n",
    "            Clinch_perT = ce*5/math.ceil(sub.fight_time.sum())\n",
    "        except:\n",
    "            Clinch_acc, Clinch_perT = None, 0\n",
    "\n",
    "        try:\n",
    "            gt = sub.loc[sub.FID_F1 == fid,'Ground_t_1'].sum() + sub.loc[sub.FID_F2 == fid,'Ground_t_2'].sum()\n",
    "            ge = sub.loc[sub.FID_F1 == fid,'Ground_e_1'].sum() + sub.loc[sub.FID_F2 == fid,'Ground_e_2'].sum()\n",
    "            Ground_acc = ge/gt\n",
    "            Ground_perT = ge*5/math.ceil(sub.fight_time.sum())\n",
    "        except:\n",
    "            Ground_acc, Ground_perT = None, 0\n",
    "\n",
    "        try:\n",
    "            k = sub.loc[sub.FID_F1 == fid,'KD_1'].sum() + sub.loc[sub.FID_F2 == fid,'KD_2'].sum()\n",
    "            KD_perT = k*15/math.ceil(sub.fight_time.sum())\n",
    "        except:\n",
    "            KD_perT = 0\n",
    "\n",
    "        try:\n",
    "            p = sub.loc[sub.FID_F1 == fid,'PASS_1'].sum() + sub.loc[sub.FID_F2 == fid,'PASS_2'].sum()\n",
    "            PASS_perT = p*15/math.ceil(sub.fight_time.sum())\n",
    "        except:\n",
    "            PASS_perT = 0\n",
    "\n",
    "        try:\n",
    "            rv = sub.loc[sub.FID_F1 == fid,'REV_1'].sum() + sub.loc[sub.FID_F2 == fid,'REV_2'].sum()\n",
    "            REV_perT = rv*15/math.ceil(sub.fight_time.sum())\n",
    "        except:\n",
    "            REV_perT = 0\n",
    "    \n",
    "    else:\n",
    "        Head_perT,Head_acc,Body_perT,Body_acc,Leg_perT,Leg_acc,Distance_perT,Distance_acc,Clinch_perT,Clinch_acc,Ground_perT,Ground_acc,PASS_perT,REV_perT,KD_perT = [None]*15\n",
    "\n",
    "    return  [Head_perT,Head_acc,Body_perT,Body_acc,Leg_perT,Leg_acc,Distance_perT,Distance_acc,Clinch_perT,Clinch_acc,Ground_perT,Ground_acc,PASS_perT,REV_perT,KD_perT]"
   ]
  },
  {
   "cell_type": "code",
   "execution_count": 801,
   "metadata": {
    "code_folding": [],
    "hidden": true
   },
   "outputs": [
    {
     "name": "stderr",
     "output_type": "stream",
     "text": [
      "D:\\jasper\\conda\\envs\\tf_gpu\\lib\\site-packages\\ipykernel_launcher.py:19: RuntimeWarning: invalid value encountered in double_scalars\n",
      "D:\\jasper\\conda\\envs\\tf_gpu\\lib\\site-packages\\ipykernel_launcher.py:43: RuntimeWarning: invalid value encountered in double_scalars\n",
      "D:\\jasper\\conda\\envs\\tf_gpu\\lib\\site-packages\\ipykernel_launcher.py:51: RuntimeWarning: invalid value encountered in double_scalars\n",
      "D:\\jasper\\conda\\envs\\tf_gpu\\lib\\site-packages\\ipykernel_launcher.py:27: RuntimeWarning: invalid value encountered in double_scalars\n",
      "D:\\jasper\\conda\\envs\\tf_gpu\\lib\\site-packages\\ipykernel_launcher.py:35: RuntimeWarning: invalid value encountered in double_scalars\n",
      "D:\\jasper\\conda\\envs\\tf_gpu\\lib\\site-packages\\ipykernel_launcher.py:11: RuntimeWarning: invalid value encountered in double_scalars\n",
      "  # This is added back by InteractiveShellApp.init_path()\n"
     ]
    }
   ],
   "source": [
    "# loop through df to get details fight stats\n",
    "for i in r.index:\n",
    "    res1 = past_fight_dets(r.loc[i,'FID_F1'],r.loc[i,'Date'],y_back)\n",
    "    res2 = past_fight_dets(r.loc[i,'FID_F2'],r.loc[i,'Date'],y_back)\n",
    "    c1, c2 = 0,0\n",
    "\n",
    "    for c in r.loc[:,'Head_perT_1':'KD_perT_2'].columns:\n",
    "        if c[-1] == '1':\n",
    "            r.loc[i,c] = res1[c1]\n",
    "            c1+=1\n",
    "        else:\n",
    "            r.loc[i,c] = res2[c2]\n",
    "            c2+=1"
   ]
  },
  {
   "cell_type": "markdown",
   "metadata": {
    "heading_collapsed": true
   },
   "source": [
    "##### Add Weight Class"
   ]
  },
  {
   "cell_type": "code",
   "execution_count": 802,
   "metadata": {
    "hidden": true
   },
   "outputs": [
    {
     "name": "stderr",
     "output_type": "stream",
     "text": [
      "D:\\jasper\\conda\\envs\\tf_gpu\\lib\\site-packages\\ipykernel_launcher.py:17: RuntimeWarning: invalid value encountered in double_scalars\n"
     ]
    }
   ],
   "source": [
    "r['weight_class'] = ''\n",
    "for i in r.index:\n",
    "    if (r.loc[i,'Type'] != r.loc[i,'Type']):\n",
    "        r.loc[i,'weight_class'] =  np.nansum([r.loc[i,'WT_lbs_F1'],r.loc[i,'WT_lbs_F2']])/\\\n",
    "        (2-np.isnan(np.array([r.loc[i,'WT_lbs_F1'],r.loc[i,'WT_lbs_F2']])).sum())\n",
    "        \n",
    "    elif 'STRAWWEIGHT' in r.loc[i,'Type']: r.loc[i,'weight_class'] = 115.0\n",
    "    elif 'FLYWEIGHT' in r.loc[i,'Type']: r.loc[i,'weight_class'] = 125.0        \n",
    "    elif 'BANTAMWEIGHT' in r.loc[i,'Type']: r.loc[i,'weight_class'] = 135.0        \n",
    "    elif 'FEATHERWEIGHT' in r.loc[i,'Type']: r.loc[i,'weight_class'] = 145.0 \n",
    "    elif 'LIGHTWEIGHT' in r.loc[i,'Type']: r.loc[i,'weight_class'] = 155.0 \n",
    "    elif 'WELTERWEIGHT' in r.loc[i,'Type']: r.loc[i,'weight_class'] = 170.0        \n",
    "    elif 'MIDDLEWEIGHT' in r.loc[i,'Type']: r.loc[i,'weight_class'] = 185.0  \n",
    "    elif 'LIGHT HEAVYWEIGHT' in r.loc[i,'Type']: r.loc[i,'weight_class'] = 205.0\n",
    "    elif 'HEAVYWEIGHT' in r.loc[i,'Type']: r.loc[i,'weight_class'] = 265.0        \n",
    "    else: r.loc[i,'weight_class'] = np.nansum([r.loc[i,'WT_lbs_F1'],r.loc[i,'WT_lbs_F2']])/\\\n",
    "        (2-np.isnan(np.array([r.loc[i,'WT_lbs_F1'],r.loc[i,'WT_lbs_F2']])).sum())\n",
    "\n",
    "r.weight_class.fillna(r.weight_class.median(),inplace=True)"
   ]
  },
  {
   "cell_type": "code",
   "execution_count": 803,
   "metadata": {
    "hidden": true
   },
   "outputs": [],
   "source": [
    "r.to_csv(f'D:/jasper/98_general_projects/03_UFC_Predictions/Data/{date}_features_{y_back}_y_back.csv')"
   ]
  },
  {
   "cell_type": "markdown",
   "metadata": {},
   "source": [
    "##### PCA & TSNE"
   ]
  },
  {
   "cell_type": "code",
   "execution_count": 804,
   "metadata": {},
   "outputs": [],
   "source": [
    "r = pd.read_csv(f'D:/jasper/98_general_projects/03_UFC_Predictions/Data/{date}_features_{y_back}_y_back.csv',index_col = 0)"
   ]
  },
  {
   "cell_type": "code",
   "execution_count": 805,
   "metadata": {},
   "outputs": [
    {
     "data": {
      "text/plain": [
       "30"
      ]
     },
     "execution_count": 805,
     "metadata": {},
     "output_type": "execute_result"
    }
   ],
   "source": [
    "# cols for history fight stats\n",
    "cols = [i.replace('_e_','_perT_') if '_e_' in i else i.replace('_t_','_acc_') for i in r.loc[:,'Head_e_1':'Ground_t_2'].columns] + [i.replace('_','_perT_') for i in r.loc[:,'PASS_1':'REV_2'].columns]\n",
    "cols.append('KD_perT_1'); cols.append('KD_perT_2')\n",
    "len(cols)"
   ]
  },
  {
   "cell_type": "code",
   "execution_count": 806,
   "metadata": {},
   "outputs": [],
   "source": [
    "X1 = r.loc[:,[i for i in cols if i[-1] == '1']]\n",
    "X2 = r.loc[:,[i for i in cols if i[-1] == '2']]"
   ]
  },
  {
   "cell_type": "code",
   "execution_count": 807,
   "metadata": {},
   "outputs": [],
   "source": [
    "def pca_application(X,dims):\n",
    "    suffix = X.columns[0][-1]\n",
    "    \n",
    "    pca = PCA(n_components = dims)\n",
    "    for c in X.columns:\n",
    "        X.loc[:,c].fillna(X[c].median(),inplace=True)\n",
    "    x = StandardScaler().fit_transform(X)\n",
    "    pca.fit(x)\n",
    "    x=pca.transform(X)\n",
    "    \n",
    "    return pd.DataFrame(x,columns = [f'pca_{i}_F{suffix}' for i in range(x.shape[1])],index = X.index)"
   ]
  },
  {
   "cell_type": "code",
   "execution_count": 808,
   "metadata": {},
   "outputs": [],
   "source": [
    "def tsne_application(X,dims):\n",
    "    suffix = X.columns[0][-1]\n",
    "    \n",
    "    for c in X.columns:\n",
    "        X.loc[:,c].fillna(X[c].median(),inplace=True)\n",
    "    \n",
    "    x = StandardScaler().fit_transform(X)\n",
    "    x = TSNE(n_components=dims).fit_transform(x)\n",
    "    \n",
    "    \n",
    "    return pd.DataFrame(x,columns = [f'tsne_{i}_F{suffix}' for i in range(x.shape[1])],index = X.index)\n",
    "    "
   ]
  },
  {
   "cell_type": "code",
   "execution_count": 809,
   "metadata": {},
   "outputs": [],
   "source": [
    "r = pd.concat([r,pca_application(X1,6),pca_application(X2,6)],axis=1,sort=False)"
   ]
  },
  {
   "cell_type": "code",
   "execution_count": 810,
   "metadata": {},
   "outputs": [],
   "source": [
    "r.to_csv(f'D:/jasper/98_general_projects/03_UFC_Predictions/Data/{date}_features_{y_back}_y_back.csv')"
   ]
  },
  {
   "cell_type": "code",
   "execution_count": 1440,
   "metadata": {},
   "outputs": [],
   "source": [
    "# r = pd.concat([r,tsne_application(X1,2),tsne_application(X2,2)],axis=1,sort=False)"
   ]
  },
  {
   "cell_type": "code",
   "execution_count": 759,
   "metadata": {},
   "outputs": [
    {
     "data": {
      "text/plain": [
       "(7637, 165)"
      ]
     },
     "execution_count": 759,
     "metadata": {},
     "output_type": "execute_result"
    }
   ],
   "source": [
    "r.shape"
   ]
  },
  {
   "cell_type": "markdown",
   "metadata": {
    "heading_collapsed": true
   },
   "source": [
    "##### TSNE Untersuchung und Plotting -> NO RESULTS, REACTS STRONGLY TO MEDAIN IMPUTATION"
   ]
  },
  {
   "cell_type": "code",
   "execution_count": 1416,
   "metadata": {
    "hidden": true
   },
   "outputs": [],
   "source": [
    "# get single fighter df\n",
    "X1 = r.loc[:,[i for i in r.columns if i[-1] != '2']]\n",
    "X2 = r.loc[:,[i for i in r.columns if i[-1] != '1']]"
   ]
  },
  {
   "cell_type": "code",
   "execution_count": 1417,
   "metadata": {
    "hidden": true
   },
   "outputs": [],
   "source": [
    "X1.columns = [i[:-1] if '1' in i else i for i in X1.columns]\n",
    "X2.columns = [i[:-1] if '2' in i else i for i in X2.columns]"
   ]
  },
  {
   "cell_type": "code",
   "execution_count": 1418,
   "metadata": {
    "hidden": true
   },
   "outputs": [],
   "source": [
    "f = pd.concat([X1,X2],axis=0,sort=False).sort_values('Date',ascending = False).drop_duplicates('FID_F')"
   ]
  },
  {
   "cell_type": "code",
   "execution_count": 1419,
   "metadata": {
    "hidden": true
   },
   "outputs": [
    {
     "data": {
      "text/html": [
       "<div>\n",
       "<style scoped>\n",
       "    .dataframe tbody tr th:only-of-type {\n",
       "        vertical-align: middle;\n",
       "    }\n",
       "\n",
       "    .dataframe tbody tr th {\n",
       "        vertical-align: top;\n",
       "    }\n",
       "\n",
       "    .dataframe thead th {\n",
       "        text-align: right;\n",
       "    }\n",
       "</style>\n",
       "<table border=\"1\" class=\"dataframe\">\n",
       "  <thead>\n",
       "    <tr style=\"text-align: right;\">\n",
       "      <th></th>\n",
       "      <th>Result</th>\n",
       "      <th>Result_F</th>\n",
       "      <th>Event</th>\n",
       "      <th>Date</th>\n",
       "      <th>Method</th>\n",
       "      <th>Round</th>\n",
       "      <th>Time</th>\n",
       "      <th>Type</th>\n",
       "      <th>T_Format</th>\n",
       "      <th>Ref</th>\n",
       "      <th>Details</th>\n",
       "      <th>Fighter_</th>\n",
       "      <th>KD_</th>\n",
       "      <th>SigStr_e_</th>\n",
       "      <th>SigStr_t_</th>\n",
       "      <th>TotStr_e_</th>\n",
       "      <th>TotStr_t_</th>\n",
       "      <th>TD_e_</th>\n",
       "      <th>TD_t_</th>\n",
       "      <th>SUB_</th>\n",
       "      <th>PASS_</th>\n",
       "      <th>REV_</th>\n",
       "      <th>Head_e_</th>\n",
       "      <th>Head_t_</th>\n",
       "      <th>Body_e_</th>\n",
       "      <th>Body_t_</th>\n",
       "      <th>Leg_e_</th>\n",
       "      <th>Leg_t_</th>\n",
       "      <th>Distance_e_</th>\n",
       "      <th>Distance_t_</th>\n",
       "      <th>Clinch_e_</th>\n",
       "      <th>Clinch_t_</th>\n",
       "      <th>Ground_e_</th>\n",
       "      <th>Ground_t_</th>\n",
       "      <th>First_F</th>\n",
       "      <th>Last_F</th>\n",
       "      <th>Nick_F</th>\n",
       "      <th>Stance_F</th>\n",
       "      <th>W_F</th>\n",
       "      <th>L_F</th>\n",
       "      <th>D_F</th>\n",
       "      <th>DOB_F</th>\n",
       "      <th>FID_F</th>\n",
       "      <th>HT_cm_F</th>\n",
       "      <th>Reach_cm_F</th>\n",
       "      <th>WT_lbs_F</th>\n",
       "      <th>age_F</th>\n",
       "      <th>fight_time</th>\n",
       "      <th>delta_h</th>\n",
       "      <th>delta_w</th>\n",
       "      <th>delta_r</th>\n",
       "      <th>w2d_F</th>\n",
       "      <th>l2d_F</th>\n",
       "      <th>time_avg_F</th>\n",
       "      <th>slpm_avg_F</th>\n",
       "      <th>stracc_avg_F</th>\n",
       "      <th>sapm_avg_F</th>\n",
       "      <th>def_avg_F</th>\n",
       "      <th>td_avg_F</th>\n",
       "      <th>tdacc_avg_F</th>\n",
       "      <th>tddef_avg_F</th>\n",
       "      <th>sub_avg_F</th>\n",
       "      <th>lastfight_F</th>\n",
       "      <th>elo_F</th>\n",
       "      <th>eloprob_F</th>\n",
       "      <th>Head_perT_</th>\n",
       "      <th>Head_acc_</th>\n",
       "      <th>Body_perT_</th>\n",
       "      <th>Body_acc_</th>\n",
       "      <th>Leg_perT_</th>\n",
       "      <th>Leg_acc_</th>\n",
       "      <th>Distance_perT_</th>\n",
       "      <th>Distance_acc_</th>\n",
       "      <th>Clinch_perT_</th>\n",
       "      <th>Clinch_acc_</th>\n",
       "      <th>Ground_perT_</th>\n",
       "      <th>Ground_acc_</th>\n",
       "      <th>PASS_perT_</th>\n",
       "      <th>REV_perT_</th>\n",
       "      <th>KD_perT_</th>\n",
       "    </tr>\n",
       "    <tr>\n",
       "      <th>MID</th>\n",
       "      <th></th>\n",
       "      <th></th>\n",
       "      <th></th>\n",
       "      <th></th>\n",
       "      <th></th>\n",
       "      <th></th>\n",
       "      <th></th>\n",
       "      <th></th>\n",
       "      <th></th>\n",
       "      <th></th>\n",
       "      <th></th>\n",
       "      <th></th>\n",
       "      <th></th>\n",
       "      <th></th>\n",
       "      <th></th>\n",
       "      <th></th>\n",
       "      <th></th>\n",
       "      <th></th>\n",
       "      <th></th>\n",
       "      <th></th>\n",
       "      <th></th>\n",
       "      <th></th>\n",
       "      <th></th>\n",
       "      <th></th>\n",
       "      <th></th>\n",
       "      <th></th>\n",
       "      <th></th>\n",
       "      <th></th>\n",
       "      <th></th>\n",
       "      <th></th>\n",
       "      <th></th>\n",
       "      <th></th>\n",
       "      <th></th>\n",
       "      <th></th>\n",
       "      <th></th>\n",
       "      <th></th>\n",
       "      <th></th>\n",
       "      <th></th>\n",
       "      <th></th>\n",
       "      <th></th>\n",
       "      <th></th>\n",
       "      <th></th>\n",
       "      <th></th>\n",
       "      <th></th>\n",
       "      <th></th>\n",
       "      <th></th>\n",
       "      <th></th>\n",
       "      <th></th>\n",
       "      <th></th>\n",
       "      <th></th>\n",
       "      <th></th>\n",
       "      <th></th>\n",
       "      <th></th>\n",
       "      <th></th>\n",
       "      <th></th>\n",
       "      <th></th>\n",
       "      <th></th>\n",
       "      <th></th>\n",
       "      <th></th>\n",
       "      <th></th>\n",
       "      <th></th>\n",
       "      <th></th>\n",
       "      <th></th>\n",
       "      <th></th>\n",
       "      <th></th>\n",
       "      <th></th>\n",
       "      <th></th>\n",
       "      <th></th>\n",
       "      <th></th>\n",
       "      <th></th>\n",
       "      <th></th>\n",
       "      <th></th>\n",
       "      <th></th>\n",
       "      <th></th>\n",
       "      <th></th>\n",
       "      <th></th>\n",
       "      <th></th>\n",
       "      <th></th>\n",
       "      <th></th>\n",
       "      <th></th>\n",
       "    </tr>\n",
       "  </thead>\n",
       "  <tbody>\n",
       "  </tbody>\n",
       "</table>\n",
       "</div>"
      ],
      "text/plain": [
       "Empty DataFrame\n",
       "Columns: [Result, Result_F, Event, Date, Method, Round, Time, Type, T_Format, Ref, Details, Fighter_, KD_, SigStr_e_, SigStr_t_, TotStr_e_, TotStr_t_, TD_e_, TD_t_, SUB_, PASS_, REV_, Head_e_, Head_t_, Body_e_, Body_t_, Leg_e_, Leg_t_, Distance_e_, Distance_t_, Clinch_e_, Clinch_t_, Ground_e_, Ground_t_, First_F, Last_F, Nick_F, Stance_F, W_F, L_F, D_F, DOB_F, FID_F, HT_cm_F, Reach_cm_F, WT_lbs_F, age_F, fight_time, delta_h, delta_w, delta_r, w2d_F, l2d_F, time_avg_F, slpm_avg_F, stracc_avg_F, sapm_avg_F, def_avg_F, td_avg_F, tdacc_avg_F, tddef_avg_F, sub_avg_F, lastfight_F, elo_F, eloprob_F, Head_perT_, Head_acc_, Body_perT_, Body_acc_, Leg_perT_, Leg_acc_, Distance_perT_, Distance_acc_, Clinch_perT_, Clinch_acc_, Ground_perT_, Ground_acc_, PASS_perT_, REV_perT_, KD_perT_]\n",
       "Index: []"
      ]
     },
     "execution_count": 1419,
     "metadata": {},
     "output_type": "execute_result"
    }
   ],
   "source": [
    "f.head(0)\n",
    "f.drop(['delta_w','delta_h','delta_r','age_F','eloprob_F','elo_F','lastfight_F','fight_time'],inplace=True,axis=1)"
   ]
  },
  {
   "cell_type": "code",
   "execution_count": 1420,
   "metadata": {
    "hidden": true
   },
   "outputs": [],
   "source": [
    "t = pca_application(f.loc[:,'time_avg_F':],2)"
   ]
  },
  {
   "cell_type": "code",
   "execution_count": 1421,
   "metadata": {
    "hidden": true
   },
   "outputs": [],
   "source": [
    "t = pd.concat([f,t],axis=1,sort=False)"
   ]
  },
  {
   "cell_type": "code",
   "execution_count": 1422,
   "metadata": {
    "hidden": true
   },
   "outputs": [
    {
     "data": {
      "text/html": [
       "<div>\n",
       "<style scoped>\n",
       "    .dataframe tbody tr th:only-of-type {\n",
       "        vertical-align: middle;\n",
       "    }\n",
       "\n",
       "    .dataframe tbody tr th {\n",
       "        vertical-align: top;\n",
       "    }\n",
       "\n",
       "    .dataframe thead th {\n",
       "        text-align: right;\n",
       "    }\n",
       "</style>\n",
       "<table border=\"1\" class=\"dataframe\">\n",
       "  <thead>\n",
       "    <tr style=\"text-align: right;\">\n",
       "      <th></th>\n",
       "      <th>Result</th>\n",
       "      <th>Result_F</th>\n",
       "      <th>Event</th>\n",
       "      <th>Date</th>\n",
       "      <th>Method</th>\n",
       "      <th>Round</th>\n",
       "      <th>Time</th>\n",
       "      <th>Type</th>\n",
       "      <th>T_Format</th>\n",
       "      <th>Ref</th>\n",
       "      <th>Details</th>\n",
       "      <th>Fighter_</th>\n",
       "      <th>KD_</th>\n",
       "      <th>SigStr_e_</th>\n",
       "      <th>SigStr_t_</th>\n",
       "      <th>TotStr_e_</th>\n",
       "      <th>TotStr_t_</th>\n",
       "      <th>TD_e_</th>\n",
       "      <th>TD_t_</th>\n",
       "      <th>SUB_</th>\n",
       "      <th>PASS_</th>\n",
       "      <th>REV_</th>\n",
       "      <th>Head_e_</th>\n",
       "      <th>Head_t_</th>\n",
       "      <th>Body_e_</th>\n",
       "      <th>Body_t_</th>\n",
       "      <th>Leg_e_</th>\n",
       "      <th>Leg_t_</th>\n",
       "      <th>Distance_e_</th>\n",
       "      <th>Distance_t_</th>\n",
       "      <th>Clinch_e_</th>\n",
       "      <th>Clinch_t_</th>\n",
       "      <th>Ground_e_</th>\n",
       "      <th>Ground_t_</th>\n",
       "      <th>First_F</th>\n",
       "      <th>Last_F</th>\n",
       "      <th>Nick_F</th>\n",
       "      <th>Stance_F</th>\n",
       "      <th>W_F</th>\n",
       "      <th>L_F</th>\n",
       "      <th>D_F</th>\n",
       "      <th>DOB_F</th>\n",
       "      <th>FID_F</th>\n",
       "      <th>HT_cm_F</th>\n",
       "      <th>Reach_cm_F</th>\n",
       "      <th>WT_lbs_F</th>\n",
       "      <th>w2d_F</th>\n",
       "      <th>l2d_F</th>\n",
       "      <th>time_avg_F</th>\n",
       "      <th>slpm_avg_F</th>\n",
       "      <th>stracc_avg_F</th>\n",
       "      <th>sapm_avg_F</th>\n",
       "      <th>def_avg_F</th>\n",
       "      <th>td_avg_F</th>\n",
       "      <th>tdacc_avg_F</th>\n",
       "      <th>tddef_avg_F</th>\n",
       "      <th>sub_avg_F</th>\n",
       "      <th>Head_perT_</th>\n",
       "      <th>Head_acc_</th>\n",
       "      <th>Body_perT_</th>\n",
       "      <th>Body_acc_</th>\n",
       "      <th>Leg_perT_</th>\n",
       "      <th>Leg_acc_</th>\n",
       "      <th>Distance_perT_</th>\n",
       "      <th>Distance_acc_</th>\n",
       "      <th>Clinch_perT_</th>\n",
       "      <th>Clinch_acc_</th>\n",
       "      <th>Ground_perT_</th>\n",
       "      <th>Ground_acc_</th>\n",
       "      <th>PASS_perT_</th>\n",
       "      <th>REV_perT_</th>\n",
       "      <th>KD_perT_</th>\n",
       "      <th>pca_0_FF</th>\n",
       "      <th>pca_1_FF</th>\n",
       "    </tr>\n",
       "    <tr>\n",
       "      <th>MID</th>\n",
       "      <th></th>\n",
       "      <th></th>\n",
       "      <th></th>\n",
       "      <th></th>\n",
       "      <th></th>\n",
       "      <th></th>\n",
       "      <th></th>\n",
       "      <th></th>\n",
       "      <th></th>\n",
       "      <th></th>\n",
       "      <th></th>\n",
       "      <th></th>\n",
       "      <th></th>\n",
       "      <th></th>\n",
       "      <th></th>\n",
       "      <th></th>\n",
       "      <th></th>\n",
       "      <th></th>\n",
       "      <th></th>\n",
       "      <th></th>\n",
       "      <th></th>\n",
       "      <th></th>\n",
       "      <th></th>\n",
       "      <th></th>\n",
       "      <th></th>\n",
       "      <th></th>\n",
       "      <th></th>\n",
       "      <th></th>\n",
       "      <th></th>\n",
       "      <th></th>\n",
       "      <th></th>\n",
       "      <th></th>\n",
       "      <th></th>\n",
       "      <th></th>\n",
       "      <th></th>\n",
       "      <th></th>\n",
       "      <th></th>\n",
       "      <th></th>\n",
       "      <th></th>\n",
       "      <th></th>\n",
       "      <th></th>\n",
       "      <th></th>\n",
       "      <th></th>\n",
       "      <th></th>\n",
       "      <th></th>\n",
       "      <th></th>\n",
       "      <th></th>\n",
       "      <th></th>\n",
       "      <th></th>\n",
       "      <th></th>\n",
       "      <th></th>\n",
       "      <th></th>\n",
       "      <th></th>\n",
       "      <th></th>\n",
       "      <th></th>\n",
       "      <th></th>\n",
       "      <th></th>\n",
       "      <th></th>\n",
       "      <th></th>\n",
       "      <th></th>\n",
       "      <th></th>\n",
       "      <th></th>\n",
       "      <th></th>\n",
       "      <th></th>\n",
       "      <th></th>\n",
       "      <th></th>\n",
       "      <th></th>\n",
       "      <th></th>\n",
       "      <th></th>\n",
       "      <th></th>\n",
       "      <th></th>\n",
       "      <th></th>\n",
       "      <th></th>\n",
       "      <th></th>\n",
       "    </tr>\n",
       "  </thead>\n",
       "  <tbody>\n",
       "    <tr>\n",
       "      <td>9bc18b63b07bb328</td>\n",
       "      <td>0.0</td>\n",
       "      <td>NaN</td>\n",
       "      <td>UFC Fight Night: Felder vs. Hooker</td>\n",
       "      <td>2020-02-22</td>\n",
       "      <td>KO/TKO</td>\n",
       "      <td>1</td>\n",
       "      <td>1:28</td>\n",
       "      <td>HEAVYWEIGHT BOUT</td>\n",
       "      <td>3 Rnd (5-5-5)</td>\n",
       "      <td>Neil Swailes</td>\n",
       "      <td>Punch to Head At Distance</td>\n",
       "      <td>Marcos Rogerio de Lima</td>\n",
       "      <td>1.0</td>\n",
       "      <td>19.0</td>\n",
       "      <td>34.0</td>\n",
       "      <td>19.0</td>\n",
       "      <td>34.0</td>\n",
       "      <td>0.0</td>\n",
       "      <td>0.0</td>\n",
       "      <td>0.0</td>\n",
       "      <td>0.0</td>\n",
       "      <td>0.0</td>\n",
       "      <td>15.0</td>\n",
       "      <td>30.0</td>\n",
       "      <td>2.0</td>\n",
       "      <td>2.0</td>\n",
       "      <td>2.0</td>\n",
       "      <td>2.0</td>\n",
       "      <td>18.0</td>\n",
       "      <td>33.0</td>\n",
       "      <td>0.0</td>\n",
       "      <td>0.0</td>\n",
       "      <td>1.0</td>\n",
       "      <td>1.0</td>\n",
       "      <td>Marcos</td>\n",
       "      <td>Rogerio de Lima</td>\n",
       "      <td>Pezao</td>\n",
       "      <td>Orthodox</td>\n",
       "      <td>17.0</td>\n",
       "      <td>7.0</td>\n",
       "      <td>1.0</td>\n",
       "      <td>1985-06-25</td>\n",
       "      <td>2587.0</td>\n",
       "      <td>185.42</td>\n",
       "      <td>190.50</td>\n",
       "      <td>253.0</td>\n",
       "      <td>16.0</td>\n",
       "      <td>7.0</td>\n",
       "      <td>5.75</td>\n",
       "      <td>3.517241</td>\n",
       "      <td>0.541114</td>\n",
       "      <td>2.586207</td>\n",
       "      <td>0.541284</td>\n",
       "      <td>0.775862</td>\n",
       "      <td>0.6</td>\n",
       "      <td>0.363636</td>\n",
       "      <td>0.775862</td>\n",
       "      <td>9.655172</td>\n",
       "      <td>0.449799</td>\n",
       "      <td>2.241379</td>\n",
       "      <td>0.565217</td>\n",
       "      <td>5.689655</td>\n",
       "      <td>0.804878</td>\n",
       "      <td>10.517241</td>\n",
       "      <td>0.450185</td>\n",
       "      <td>1.551724</td>\n",
       "      <td>0.857143</td>\n",
       "      <td>5.517241</td>\n",
       "      <td>0.752941</td>\n",
       "      <td>2.844828</td>\n",
       "      <td>0.258621</td>\n",
       "      <td>1.034483</td>\n",
       "      <td>13.638853</td>\n",
       "      <td>-3.085715</td>\n",
       "    </tr>\n",
       "    <tr>\n",
       "      <td>02bdb7a5b2986571</td>\n",
       "      <td>0.0</td>\n",
       "      <td>L</td>\n",
       "      <td>UFC Fight Night: Felder vs. Hooker</td>\n",
       "      <td>2020-02-22</td>\n",
       "      <td>KO/TKO</td>\n",
       "      <td>2</td>\n",
       "      <td>3:01</td>\n",
       "      <td>LIGHTWEIGHT BOUT</td>\n",
       "      <td>3 Rnd (5-5-5)</td>\n",
       "      <td>Mark Craig</td>\n",
       "      <td>Punches to Head From Back Control</td>\n",
       "      <td>Josh Culibao</td>\n",
       "      <td>0.0</td>\n",
       "      <td>12.0</td>\n",
       "      <td>28.0</td>\n",
       "      <td>12.0</td>\n",
       "      <td>30.0</td>\n",
       "      <td>0.0</td>\n",
       "      <td>3.0</td>\n",
       "      <td>0.0</td>\n",
       "      <td>0.0</td>\n",
       "      <td>0.0</td>\n",
       "      <td>7.0</td>\n",
       "      <td>21.0</td>\n",
       "      <td>4.0</td>\n",
       "      <td>6.0</td>\n",
       "      <td>1.0</td>\n",
       "      <td>1.0</td>\n",
       "      <td>9.0</td>\n",
       "      <td>23.0</td>\n",
       "      <td>3.0</td>\n",
       "      <td>5.0</td>\n",
       "      <td>0.0</td>\n",
       "      <td>0.0</td>\n",
       "      <td>Josh</td>\n",
       "      <td>Culibao</td>\n",
       "      <td>Kuya</td>\n",
       "      <td>Orthodox</td>\n",
       "      <td>8.0</td>\n",
       "      <td>1.0</td>\n",
       "      <td>0.0</td>\n",
       "      <td>1994-05-24</td>\n",
       "      <td>624.0</td>\n",
       "      <td>177.80</td>\n",
       "      <td>185.42</td>\n",
       "      <td>155.0</td>\n",
       "      <td>8.0</td>\n",
       "      <td>1.0</td>\n",
       "      <td>NaN</td>\n",
       "      <td>NaN</td>\n",
       "      <td>NaN</td>\n",
       "      <td>NaN</td>\n",
       "      <td>NaN</td>\n",
       "      <td>NaN</td>\n",
       "      <td>NaN</td>\n",
       "      <td>NaN</td>\n",
       "      <td>NaN</td>\n",
       "      <td>NaN</td>\n",
       "      <td>NaN</td>\n",
       "      <td>NaN</td>\n",
       "      <td>NaN</td>\n",
       "      <td>NaN</td>\n",
       "      <td>NaN</td>\n",
       "      <td>NaN</td>\n",
       "      <td>NaN</td>\n",
       "      <td>NaN</td>\n",
       "      <td>NaN</td>\n",
       "      <td>NaN</td>\n",
       "      <td>NaN</td>\n",
       "      <td>NaN</td>\n",
       "      <td>NaN</td>\n",
       "      <td>NaN</td>\n",
       "      <td>9.706015</td>\n",
       "      <td>-3.495874</td>\n",
       "    </tr>\n",
       "  </tbody>\n",
       "</table>\n",
       "</div>"
      ],
      "text/plain": [
       "                  Result Result_F                               Event  \\\n",
       "MID                                                                     \n",
       "9bc18b63b07bb328     0.0      NaN  UFC Fight Night: Felder vs. Hooker   \n",
       "02bdb7a5b2986571     0.0        L  UFC Fight Night: Felder vs. Hooker   \n",
       "\n",
       "                        Date  Method  Round  Time              Type  \\\n",
       "MID                                                                   \n",
       "9bc18b63b07bb328  2020-02-22  KO/TKO      1  1:28  HEAVYWEIGHT BOUT   \n",
       "02bdb7a5b2986571  2020-02-22  KO/TKO      2  3:01  LIGHTWEIGHT BOUT   \n",
       "\n",
       "                       T_Format           Ref  \\\n",
       "MID                                             \n",
       "9bc18b63b07bb328  3 Rnd (5-5-5)  Neil Swailes   \n",
       "02bdb7a5b2986571  3 Rnd (5-5-5)    Mark Craig   \n",
       "\n",
       "                                            Details                Fighter_  \\\n",
       "MID                                                                           \n",
       "9bc18b63b07bb328          Punch to Head At Distance  Marcos Rogerio de Lima   \n",
       "02bdb7a5b2986571  Punches to Head From Back Control            Josh Culibao   \n",
       "\n",
       "                  KD_  SigStr_e_  SigStr_t_  TotStr_e_  TotStr_t_  TD_e_  \\\n",
       "MID                                                                        \n",
       "9bc18b63b07bb328  1.0       19.0       34.0       19.0       34.0    0.0   \n",
       "02bdb7a5b2986571  0.0       12.0       28.0       12.0       30.0    0.0   \n",
       "\n",
       "                  TD_t_  SUB_  PASS_  REV_  Head_e_  Head_t_  Body_e_  \\\n",
       "MID                                                                     \n",
       "9bc18b63b07bb328    0.0   0.0    0.0   0.0     15.0     30.0      2.0   \n",
       "02bdb7a5b2986571    3.0   0.0    0.0   0.0      7.0     21.0      4.0   \n",
       "\n",
       "                  Body_t_  Leg_e_  Leg_t_  Distance_e_  Distance_t_  \\\n",
       "MID                                                                   \n",
       "9bc18b63b07bb328      2.0     2.0     2.0         18.0         33.0   \n",
       "02bdb7a5b2986571      6.0     1.0     1.0          9.0         23.0   \n",
       "\n",
       "                  Clinch_e_  Clinch_t_  Ground_e_  Ground_t_ First_F  \\\n",
       "MID                                                                    \n",
       "9bc18b63b07bb328        0.0        0.0        1.0        1.0  Marcos   \n",
       "02bdb7a5b2986571        3.0        5.0        0.0        0.0    Josh   \n",
       "\n",
       "                           Last_F Nick_F  Stance_F   W_F  L_F  D_F  \\\n",
       "MID                                                                  \n",
       "9bc18b63b07bb328  Rogerio de Lima  Pezao  Orthodox  17.0  7.0  1.0   \n",
       "02bdb7a5b2986571          Culibao   Kuya  Orthodox   8.0  1.0  0.0   \n",
       "\n",
       "                       DOB_F   FID_F  HT_cm_F  Reach_cm_F  WT_lbs_F  w2d_F  \\\n",
       "MID                                                                          \n",
       "9bc18b63b07bb328  1985-06-25  2587.0   185.42      190.50     253.0   16.0   \n",
       "02bdb7a5b2986571  1994-05-24   624.0   177.80      185.42     155.0    8.0   \n",
       "\n",
       "                  l2d_F  time_avg_F  slpm_avg_F  stracc_avg_F  sapm_avg_F  \\\n",
       "MID                                                                         \n",
       "9bc18b63b07bb328    7.0        5.75    3.517241      0.541114    2.586207   \n",
       "02bdb7a5b2986571    1.0         NaN         NaN           NaN         NaN   \n",
       "\n",
       "                  def_avg_F  td_avg_F  tdacc_avg_F  tddef_avg_F  sub_avg_F  \\\n",
       "MID                                                                          \n",
       "9bc18b63b07bb328   0.541284  0.775862          0.6     0.363636   0.775862   \n",
       "02bdb7a5b2986571        NaN       NaN          NaN          NaN        NaN   \n",
       "\n",
       "                  Head_perT_  Head_acc_  Body_perT_  Body_acc_  Leg_perT_  \\\n",
       "MID                                                                         \n",
       "9bc18b63b07bb328    9.655172   0.449799    2.241379   0.565217   5.689655   \n",
       "02bdb7a5b2986571         NaN        NaN         NaN        NaN        NaN   \n",
       "\n",
       "                  Leg_acc_  Distance_perT_  Distance_acc_  Clinch_perT_  \\\n",
       "MID                                                                       \n",
       "9bc18b63b07bb328  0.804878       10.517241       0.450185      1.551724   \n",
       "02bdb7a5b2986571       NaN             NaN            NaN           NaN   \n",
       "\n",
       "                  Clinch_acc_  Ground_perT_  Ground_acc_  PASS_perT_  \\\n",
       "MID                                                                    \n",
       "9bc18b63b07bb328     0.857143      5.517241     0.752941    2.844828   \n",
       "02bdb7a5b2986571          NaN           NaN          NaN         NaN   \n",
       "\n",
       "                  REV_perT_  KD_perT_   pca_0_FF  pca_1_FF  \n",
       "MID                                                         \n",
       "9bc18b63b07bb328   0.258621  1.034483  13.638853 -3.085715  \n",
       "02bdb7a5b2986571        NaN       NaN   9.706015 -3.495874  "
      ]
     },
     "execution_count": 1422,
     "metadata": {},
     "output_type": "execute_result"
    }
   ],
   "source": [
    "t.head(2)"
   ]
  },
  {
   "cell_type": "code",
   "execution_count": 1424,
   "metadata": {
    "hidden": true
   },
   "outputs": [
    {
     "data": {
      "text/html": [
       "<div style=\"display: table;\"><div style=\"display: table-row;\"><div style=\"display: table-cell;\"><b title=\"bokeh.models.renderers.GlyphRenderer\">GlyphRenderer</b>(</div><div style=\"display: table-cell;\">id&nbsp;=&nbsp;'3475', <span id=\"3478\" style=\"cursor: pointer;\">&hellip;)</span></div></div><div class=\"3477\" style=\"display: none;\"><div style=\"display: table-cell;\"></div><div style=\"display: table-cell;\">data_source&nbsp;=&nbsp;ColumnDataSource(id='3435', ...),</div></div><div class=\"3477\" style=\"display: none;\"><div style=\"display: table-cell;\"></div><div style=\"display: table-cell;\">glyph&nbsp;=&nbsp;Circle(id='3473', ...),</div></div><div class=\"3477\" style=\"display: none;\"><div style=\"display: table-cell;\"></div><div style=\"display: table-cell;\">hover_glyph&nbsp;=&nbsp;None,</div></div><div class=\"3477\" style=\"display: none;\"><div style=\"display: table-cell;\"></div><div style=\"display: table-cell;\">js_event_callbacks&nbsp;=&nbsp;{},</div></div><div class=\"3477\" style=\"display: none;\"><div style=\"display: table-cell;\"></div><div style=\"display: table-cell;\">js_property_callbacks&nbsp;=&nbsp;{},</div></div><div class=\"3477\" style=\"display: none;\"><div style=\"display: table-cell;\"></div><div style=\"display: table-cell;\">level&nbsp;=&nbsp;'glyph',</div></div><div class=\"3477\" style=\"display: none;\"><div style=\"display: table-cell;\"></div><div style=\"display: table-cell;\">muted&nbsp;=&nbsp;False,</div></div><div class=\"3477\" style=\"display: none;\"><div style=\"display: table-cell;\"></div><div style=\"display: table-cell;\">muted_glyph&nbsp;=&nbsp;None,</div></div><div class=\"3477\" style=\"display: none;\"><div style=\"display: table-cell;\"></div><div style=\"display: table-cell;\">name&nbsp;=&nbsp;None,</div></div><div class=\"3477\" style=\"display: none;\"><div style=\"display: table-cell;\"></div><div style=\"display: table-cell;\">nonselection_glyph&nbsp;=&nbsp;Circle(id='3474', ...),</div></div><div class=\"3477\" style=\"display: none;\"><div style=\"display: table-cell;\"></div><div style=\"display: table-cell;\">selection_glyph&nbsp;=&nbsp;None,</div></div><div class=\"3477\" style=\"display: none;\"><div style=\"display: table-cell;\"></div><div style=\"display: table-cell;\">subscribed_events&nbsp;=&nbsp;[],</div></div><div class=\"3477\" style=\"display: none;\"><div style=\"display: table-cell;\"></div><div style=\"display: table-cell;\">tags&nbsp;=&nbsp;[],</div></div><div class=\"3477\" style=\"display: none;\"><div style=\"display: table-cell;\"></div><div style=\"display: table-cell;\">view&nbsp;=&nbsp;CDSView(id='3476', ...),</div></div><div class=\"3477\" style=\"display: none;\"><div style=\"display: table-cell;\"></div><div style=\"display: table-cell;\">visible&nbsp;=&nbsp;True,</div></div><div class=\"3477\" style=\"display: none;\"><div style=\"display: table-cell;\"></div><div style=\"display: table-cell;\">x_range_name&nbsp;=&nbsp;'default',</div></div><div class=\"3477\" style=\"display: none;\"><div style=\"display: table-cell;\"></div><div style=\"display: table-cell;\">y_range_name&nbsp;=&nbsp;'default')</div></div></div>\n",
       "<script>\n",
       "(function() {\n",
       "  var expanded = false;\n",
       "  var ellipsis = document.getElementById(\"3478\");\n",
       "  ellipsis.addEventListener(\"click\", function() {\n",
       "    var rows = document.getElementsByClassName(\"3477\");\n",
       "    for (var i = 0; i < rows.length; i++) {\n",
       "      var el = rows[i];\n",
       "      el.style.display = expanded ? \"none\" : \"table-row\";\n",
       "    }\n",
       "    ellipsis.innerHTML = expanded ? \"&hellip;)\" : \"&lsaquo;&lsaquo;&lsaquo;\";\n",
       "    expanded = !expanded;\n",
       "  });\n",
       "})();\n",
       "</script>\n"
      ],
      "text/plain": [
       "GlyphRenderer(id='3475', ...)"
      ]
     },
     "execution_count": 1424,
     "metadata": {},
     "output_type": "execute_result"
    }
   ],
   "source": [
    "from bokeh.plotting import figure, output_file, show, ColumnDataSource\n",
    "\n",
    "output_file(\"toolbar.html\")\n",
    "\n",
    "source = ColumnDataSource(data=dict(\n",
    "    x=t.pca_0_FF,\n",
    "    y=t.pca_1_FF,\n",
    "    desc=t.Fighter_,\n",
    "))\n",
    "\n",
    "TOOLTIPS = [\n",
    "    (\"index\", \"$index\"),\n",
    "    (\"(x,y)\", \"($x, $y)\"),\n",
    "    (\"desc\", \"@desc\"),\n",
    "]\n",
    "\n",
    "p = figure(plot_width=800, plot_height=800, tooltips=TOOLTIPS,\n",
    "           title=\"TSEN RESULT\")\n",
    "\n",
    "# p.line(list(range(0,int(round(df_pred.actual.max()+1)))), list(range(0,int(round(df_pred.actual.max()+1)))), line_width=2) # identity line\n",
    "p.circle('x', 'y', size=10, source=source)\n",
    "show(p)\n"
   ]
  },
  {
   "cell_type": "code",
   "execution_count": 1395,
   "metadata": {
    "hidden": true
   },
   "outputs": [
    {
     "name": "stderr",
     "output_type": "stream",
     "text": [
      "D:\\jasper\\conda\\envs\\modelling\\lib\\site-packages\\ipykernel_launcher.py:1: FutureWarning: \n",
      ".ix is deprecated. Please use\n",
      ".loc for label based indexing or\n",
      ".iloc for positional indexing\n",
      "\n",
      "See the documentation here:\n",
      "http://pandas.pydata.org/pandas-docs/stable/user_guide/indexing.html#ix-indexer-is-deprecated\n",
      "  \"\"\"Entry point for launching an IPython kernel.\n",
      "D:\\jasper\\conda\\envs\\modelling\\lib\\site-packages\\pandas\\core\\indexing.py:822: FutureWarning: \n",
      ".ix is deprecated. Please use\n",
      ".loc for label based indexing or\n",
      ".iloc for positional indexing\n",
      "\n",
      "See the documentation here:\n",
      "http://pandas.pydata.org/pandas-docs/stable/user_guide/indexing.html#ix-indexer-is-deprecated\n",
      "  retval = getattr(retval, self.name)._getitem_axis(key, axis=i)\n"
     ]
    },
    {
     "data": {
      "text/html": [
       "<div>\n",
       "<style scoped>\n",
       "    .dataframe tbody tr th:only-of-type {\n",
       "        vertical-align: middle;\n",
       "    }\n",
       "\n",
       "    .dataframe tbody tr th {\n",
       "        vertical-align: top;\n",
       "    }\n",
       "\n",
       "    .dataframe thead th {\n",
       "        text-align: right;\n",
       "    }\n",
       "</style>\n",
       "<table border=\"1\" class=\"dataframe\">\n",
       "  <thead>\n",
       "    <tr style=\"text-align: right;\">\n",
       "      <th></th>\n",
       "      <th>tsne_0_FF</th>\n",
       "      <th>tsne_1_FF</th>\n",
       "    </tr>\n",
       "    <tr>\n",
       "      <th>MID</th>\n",
       "      <th></th>\n",
       "      <th></th>\n",
       "    </tr>\n",
       "  </thead>\n",
       "  <tbody>\n",
       "    <tr>\n",
       "      <td>01a4827b3596d111</td>\n",
       "      <td>10.916581</td>\n",
       "      <td>30.860769</td>\n",
       "    </tr>\n",
       "  </tbody>\n",
       "</table>\n",
       "</div>"
      ],
      "text/plain": [
       "                  tsne_0_FF  tsne_1_FF\n",
       "MID                                   \n",
       "01a4827b3596d111  10.916581  30.860769"
      ]
     },
     "execution_count": 1395,
     "metadata": {},
     "output_type": "execute_result"
    }
   ],
   "source": [
    "t[t.Fighter_ == 'Khabib Nurmagomedov'].ix[:,-2:]"
   ]
  },
  {
   "cell_type": "markdown",
   "metadata": {
    "heading_collapsed": true
   },
   "source": [
    "##### Plotting Age vs. Expectin Win"
   ]
  },
  {
   "cell_type": "code",
   "execution_count": 1454,
   "metadata": {
    "hidden": true
   },
   "outputs": [],
   "source": [
    "# get single fighter df\n",
    "X1 = r.loc[:,[i for i in r.columns if i[-1] != '2']]\n",
    "X2 = r.loc[:,[i for i in r.columns if i[-1] != '1']]"
   ]
  },
  {
   "cell_type": "code",
   "execution_count": 1455,
   "metadata": {
    "hidden": true
   },
   "outputs": [],
   "source": [
    "X1.columns = [i[:-1] if '1' in i else i for i in X1.columns]\n",
    "X2.columns = [i[:-1] if '2' in i else i for i in X2.columns]"
   ]
  },
  {
   "cell_type": "code",
   "execution_count": 1474,
   "metadata": {
    "hidden": true
   },
   "outputs": [
    {
     "name": "stderr",
     "output_type": "stream",
     "text": [
      "D:\\jasper\\conda\\envs\\modelling\\lib\\site-packages\\ipykernel_launcher.py:2: FutureWarning: \n",
      ".ix is deprecated. Please use\n",
      ".loc for label based indexing or\n",
      ".iloc for positional indexing\n",
      "\n",
      "See the documentation here:\n",
      "http://pandas.pydata.org/pandas-docs/stable/user_guide/indexing.html#ix-indexer-is-deprecated\n",
      "  \n"
     ]
    }
   ],
   "source": [
    "f = pd.concat([X1,X2],axis=0,sort=False).sort_values('Date',ascending = False)\n",
    "f['Result'] = [(f.ix[i,'Result']*(-1)+1) if f.ix[i,'Result_F'] != f.ix[i,'Result_F'] else f.ix[i,'Result'] for i in range(len(f.index))]"
   ]
  },
  {
   "cell_type": "code",
   "execution_count": 1496,
   "metadata": {
    "hidden": true
   },
   "outputs": [],
   "source": [
    "f['age_bins'] = pd.cut(f['age_F'],bins=15,labels=list(range(15)))\n",
    "f['age_bin_des'] = pd.cut(f['age_F'],bins=15)"
   ]
  },
  {
   "cell_type": "code",
   "execution_count": 1512,
   "metadata": {
    "hidden": true
   },
   "outputs": [],
   "source": [
    "f['age_bins'] = pd.qcut(f['age_F'],q=10,labels=list(range(10)))\n",
    "f['age_bin_des'] = pd.qcut(f['age_F'],q=10)"
   ]
  },
  {
   "cell_type": "code",
   "execution_count": 1514,
   "metadata": {
    "hidden": true
   },
   "outputs": [
    {
     "data": {
      "text/plain": [
       "<matplotlib.axes._subplots.AxesSubplot at 0x1cdd3d65a90>"
      ]
     },
     "execution_count": 1514,
     "metadata": {},
     "output_type": "execute_result"
    },
    {
     "data": {
      "image/png": "[encoded data removed]",
      "text/plain": [
       "<Figure size 1080x720 with 1 Axes>"
      ]
     },
     "metadata": {
      "needs_background": "light"
     },
     "output_type": "display_data"
    }
   ],
   "source": [
    "pd.pivot_table(f,values = 'Result', index = 'age_bin_des', aggfunc = np.mean).plot(kind = 'barh',figsize=(15,10))"
   ]
  },
  {
   "cell_type": "code",
   "execution_count": 1524,
   "metadata": {
    "hidden": true
   },
   "outputs": [
    {
     "data": {
      "text/plain": [
       "<matplotlib.axes._subplots.AxesSubplot at 0x1cddbe58c88>"
      ]
     },
     "execution_count": 1524,
     "metadata": {},
     "output_type": "execute_result"
    },
    {
     "data": {
      "image/png": "[encoded data removed]",
      "text/plain": [
       "<Figure size 1080x720 with 1 Axes>"
      ]
     },
     "metadata": {
      "needs_background": "light"
     },
     "output_type": "display_data"
    }
   ],
   "source": [
    "pd.pivot_table(f,values = ['Result'], index = 'age_bin_des', aggfunc = np.mean).plot(kind = 'barh',figsize=(15,10))"
   ]
  },
  {
   "cell_type": "code",
   "execution_count": 1505,
   "metadata": {
    "hidden": true
   },
   "outputs": [
    {
     "data": {
      "text/html": [
       "<div>\n",
       "<style scoped>\n",
       "    .dataframe tbody tr th:only-of-type {\n",
       "        vertical-align: middle;\n",
       "    }\n",
       "\n",
       "    .dataframe tbody tr th {\n",
       "        vertical-align: top;\n",
       "    }\n",
       "\n",
       "    .dataframe thead th {\n",
       "        text-align: right;\n",
       "    }\n",
       "</style>\n",
       "<table border=\"1\" class=\"dataframe\">\n",
       "  <thead>\n",
       "    <tr style=\"text-align: right;\">\n",
       "      <th></th>\n",
       "      <th>Result</th>\n",
       "      <th>Result_F</th>\n",
       "      <th>Event</th>\n",
       "      <th>Date</th>\n",
       "      <th>Method</th>\n",
       "      <th>Round</th>\n",
       "      <th>Time</th>\n",
       "      <th>Type</th>\n",
       "      <th>T_Format</th>\n",
       "      <th>Ref</th>\n",
       "      <th>Details</th>\n",
       "      <th>Fighter_</th>\n",
       "      <th>KD_</th>\n",
       "      <th>SigStr_e_</th>\n",
       "      <th>SigStr_t_</th>\n",
       "      <th>TotStr_e_</th>\n",
       "      <th>TotStr_t_</th>\n",
       "      <th>TD_e_</th>\n",
       "      <th>TD_t_</th>\n",
       "      <th>SUB_</th>\n",
       "      <th>PASS_</th>\n",
       "      <th>REV_</th>\n",
       "      <th>Head_e_</th>\n",
       "      <th>Head_t_</th>\n",
       "      <th>Body_e_</th>\n",
       "      <th>Body_t_</th>\n",
       "      <th>Leg_e_</th>\n",
       "      <th>Leg_t_</th>\n",
       "      <th>Distance_e_</th>\n",
       "      <th>Distance_t_</th>\n",
       "      <th>Clinch_e_</th>\n",
       "      <th>Clinch_t_</th>\n",
       "      <th>Ground_e_</th>\n",
       "      <th>Ground_t_</th>\n",
       "      <th>First_F</th>\n",
       "      <th>Last_F</th>\n",
       "      <th>Nick_F</th>\n",
       "      <th>Stance_F</th>\n",
       "      <th>W_F</th>\n",
       "      <th>L_F</th>\n",
       "      <th>D_F</th>\n",
       "      <th>DOB_F</th>\n",
       "      <th>FID_F</th>\n",
       "      <th>HT_cm_F</th>\n",
       "      <th>Reach_cm_F</th>\n",
       "      <th>WT_lbs_F</th>\n",
       "      <th>age_F</th>\n",
       "      <th>fight_time</th>\n",
       "      <th>delta_h</th>\n",
       "      <th>delta_w</th>\n",
       "      <th>delta_r</th>\n",
       "      <th>w2d_F</th>\n",
       "      <th>l2d_F</th>\n",
       "      <th>time_avg_F</th>\n",
       "      <th>slpm_avg_F</th>\n",
       "      <th>stracc_avg_F</th>\n",
       "      <th>sapm_avg_F</th>\n",
       "      <th>def_avg_F</th>\n",
       "      <th>td_avg_F</th>\n",
       "      <th>tdacc_avg_F</th>\n",
       "      <th>tddef_avg_F</th>\n",
       "      <th>sub_avg_F</th>\n",
       "      <th>lastfight_F</th>\n",
       "      <th>elo_F</th>\n",
       "      <th>eloprob_F</th>\n",
       "      <th>Head_perT_</th>\n",
       "      <th>Head_acc_</th>\n",
       "      <th>Body_perT_</th>\n",
       "      <th>Body_acc_</th>\n",
       "      <th>Leg_perT_</th>\n",
       "      <th>Leg_acc_</th>\n",
       "      <th>Distance_perT_</th>\n",
       "      <th>Distance_acc_</th>\n",
       "      <th>Clinch_perT_</th>\n",
       "      <th>Clinch_acc_</th>\n",
       "      <th>Ground_perT_</th>\n",
       "      <th>Ground_acc_</th>\n",
       "      <th>PASS_perT_</th>\n",
       "      <th>REV_perT_</th>\n",
       "      <th>KD_perT_</th>\n",
       "      <th>pca_0_F</th>\n",
       "      <th>pca_1_F</th>\n",
       "      <th>pca_2_F</th>\n",
       "      <th>pca_3_F</th>\n",
       "      <th>pca_4_F</th>\n",
       "      <th>age_bins</th>\n",
       "      <th>age_bin_des</th>\n",
       "    </tr>\n",
       "    <tr>\n",
       "      <th>MID</th>\n",
       "      <th></th>\n",
       "      <th></th>\n",
       "      <th></th>\n",
       "      <th></th>\n",
       "      <th></th>\n",
       "      <th></th>\n",
       "      <th></th>\n",
       "      <th></th>\n",
       "      <th></th>\n",
       "      <th></th>\n",
       "      <th></th>\n",
       "      <th></th>\n",
       "      <th></th>\n",
       "      <th></th>\n",
       "      <th></th>\n",
       "      <th></th>\n",
       "      <th></th>\n",
       "      <th></th>\n",
       "      <th></th>\n",
       "      <th></th>\n",
       "      <th></th>\n",
       "      <th></th>\n",
       "      <th></th>\n",
       "      <th></th>\n",
       "      <th></th>\n",
       "      <th></th>\n",
       "      <th></th>\n",
       "      <th></th>\n",
       "      <th></th>\n",
       "      <th></th>\n",
       "      <th></th>\n",
       "      <th></th>\n",
       "      <th></th>\n",
       "      <th></th>\n",
       "      <th></th>\n",
       "      <th></th>\n",
       "      <th></th>\n",
       "      <th></th>\n",
       "      <th></th>\n",
       "      <th></th>\n",
       "      <th></th>\n",
       "      <th></th>\n",
       "      <th></th>\n",
       "      <th></th>\n",
       "      <th></th>\n",
       "      <th></th>\n",
       "      <th></th>\n",
       "      <th></th>\n",
       "      <th></th>\n",
       "      <th></th>\n",
       "      <th></th>\n",
       "      <th></th>\n",
       "      <th></th>\n",
       "      <th></th>\n",
       "      <th></th>\n",
       "      <th></th>\n",
       "      <th></th>\n",
       "      <th></th>\n",
       "      <th></th>\n",
       "      <th></th>\n",
       "      <th></th>\n",
       "      <th></th>\n",
       "      <th></th>\n",
       "      <th></th>\n",
       "      <th></th>\n",
       "      <th></th>\n",
       "      <th></th>\n",
       "      <th></th>\n",
       "      <th></th>\n",
       "      <th></th>\n",
       "      <th></th>\n",
       "      <th></th>\n",
       "      <th></th>\n",
       "      <th></th>\n",
       "      <th></th>\n",
       "      <th></th>\n",
       "      <th></th>\n",
       "      <th></th>\n",
       "      <th></th>\n",
       "      <th></th>\n",
       "      <th></th>\n",
       "      <th></th>\n",
       "      <th></th>\n",
       "      <th></th>\n",
       "      <th></th>\n",
       "      <th></th>\n",
       "      <th></th>\n",
       "    </tr>\n",
       "  </thead>\n",
       "  <tbody>\n",
       "    <tr>\n",
       "      <td>f0e299c134cbac37</td>\n",
       "      <td>0.0</td>\n",
       "      <td>NaN</td>\n",
       "      <td>UFC 129: St-Pierre vs Shields</td>\n",
       "      <td>2011-04-30</td>\n",
       "      <td>KO/TKO</td>\n",
       "      <td>2</td>\n",
       "      <td>1:05</td>\n",
       "      <td>LIGHT HEAVYWEIGHT BOUT</td>\n",
       "      <td>3 Rnd (5-5-5)</td>\n",
       "      <td>Yves Lavigne</td>\n",
       "      <td>Kick to Head At Distance</td>\n",
       "      <td>Randy Couture</td>\n",
       "      <td>0.0</td>\n",
       "      <td>5.0</td>\n",
       "      <td>23.0</td>\n",
       "      <td>5.0</td>\n",
       "      <td>24.0</td>\n",
       "      <td>0.0</td>\n",
       "      <td>3.0</td>\n",
       "      <td>0.0</td>\n",
       "      <td>0.0</td>\n",
       "      <td>0.0</td>\n",
       "      <td>4.0</td>\n",
       "      <td>21.0</td>\n",
       "      <td>1.0</td>\n",
       "      <td>2.0</td>\n",
       "      <td>0.0</td>\n",
       "      <td>0.0</td>\n",
       "      <td>5.0</td>\n",
       "      <td>21.0</td>\n",
       "      <td>0.0</td>\n",
       "      <td>2.0</td>\n",
       "      <td>0.0</td>\n",
       "      <td>0.0</td>\n",
       "      <td>Randy</td>\n",
       "      <td>Couture</td>\n",
       "      <td>The Natural</td>\n",
       "      <td>Orthodox</td>\n",
       "      <td>19.0</td>\n",
       "      <td>11.0</td>\n",
       "      <td>0.0</td>\n",
       "      <td>1963-06-22</td>\n",
       "      <td>600.0</td>\n",
       "      <td>185.42</td>\n",
       "      <td>190.5</td>\n",
       "      <td>205.0</td>\n",
       "      <td>47.9</td>\n",
       "      <td>6.1</td>\n",
       "      <td>0.00</td>\n",
       "      <td>-20.0</td>\n",
       "      <td>-2.54</td>\n",
       "      <td>19.0</td>\n",
       "      <td>10.0</td>\n",
       "      <td>11.558333</td>\n",
       "      <td>2.784173</td>\n",
       "      <td>0.597222</td>\n",
       "      <td>1.388489</td>\n",
       "      <td>0.584499</td>\n",
       "      <td>2.913669</td>\n",
       "      <td>0.524272</td>\n",
       "      <td>0.59375</td>\n",
       "      <td>0.593525</td>\n",
       "      <td>8.1</td>\n",
       "      <td>84.246646</td>\n",
       "      <td>0.431302</td>\n",
       "      <td>10.701439</td>\n",
       "      <td>0.543379</td>\n",
       "      <td>1.546763</td>\n",
       "      <td>0.86</td>\n",
       "      <td>1.672662</td>\n",
       "      <td>0.920792</td>\n",
       "      <td>3.651079</td>\n",
       "      <td>0.404382</td>\n",
       "      <td>4.226619</td>\n",
       "      <td>0.770492</td>\n",
       "      <td>6.043165</td>\n",
       "      <td>0.687117</td>\n",
       "      <td>2.643885</td>\n",
       "      <td>0.107914</td>\n",
       "      <td>0.053957</td>\n",
       "      <td>10.590311</td>\n",
       "      <td>1.133308</td>\n",
       "      <td>5.546109</td>\n",
       "      <td>2.383511</td>\n",
       "      <td>-1.408408</td>\n",
       "      <td>13</td>\n",
       "      <td>(47.247, 49.573]</td>\n",
       "    </tr>\n",
       "    <tr>\n",
       "      <td>b28a6efb7197b786</td>\n",
       "      <td>1.0</td>\n",
       "      <td>W</td>\n",
       "      <td>Strikeforce - Diaz vs. Cyborg</td>\n",
       "      <td>2011-01-29</td>\n",
       "      <td>KO/TKO</td>\n",
       "      <td>1</td>\n",
       "      <td>3:13</td>\n",
       "      <td>HEAVYWEIGHT BOUT</td>\n",
       "      <td>3 Rnd (5-5-5)</td>\n",
       "      <td>Dan Stell</td>\n",
       "      <td>Punch to Head In Clinch</td>\n",
       "      <td>Herschel Walker</td>\n",
       "      <td>2.0</td>\n",
       "      <td>20.0</td>\n",
       "      <td>26.0</td>\n",
       "      <td>47.0</td>\n",
       "      <td>66.0</td>\n",
       "      <td>1.0</td>\n",
       "      <td>1.0</td>\n",
       "      <td>0.0</td>\n",
       "      <td>0.0</td>\n",
       "      <td>0.0</td>\n",
       "      <td>14.0</td>\n",
       "      <td>20.0</td>\n",
       "      <td>1.0</td>\n",
       "      <td>1.0</td>\n",
       "      <td>5.0</td>\n",
       "      <td>5.0</td>\n",
       "      <td>2.0</td>\n",
       "      <td>5.0</td>\n",
       "      <td>0.0</td>\n",
       "      <td>0.0</td>\n",
       "      <td>18.0</td>\n",
       "      <td>21.0</td>\n",
       "      <td>Herschel</td>\n",
       "      <td>Walker</td>\n",
       "      <td>NaN</td>\n",
       "      <td>Orthodox</td>\n",
       "      <td>2.0</td>\n",
       "      <td>0.0</td>\n",
       "      <td>0.0</td>\n",
       "      <td>1962-03-03</td>\n",
       "      <td>3222.0</td>\n",
       "      <td>185.42</td>\n",
       "      <td>NaN</td>\n",
       "      <td>215.0</td>\n",
       "      <td>48.9</td>\n",
       "      <td>3.2</td>\n",
       "      <td>-2.54</td>\n",
       "      <td>0.0</td>\n",
       "      <td>NaN</td>\n",
       "      <td>1.0</td>\n",
       "      <td>0.0</td>\n",
       "      <td>12.300000</td>\n",
       "      <td>2.538462</td>\n",
       "      <td>0.622642</td>\n",
       "      <td>0.384615</td>\n",
       "      <td>0.500000</td>\n",
       "      <td>1.153846</td>\n",
       "      <td>1.000000</td>\n",
       "      <td>1.00000</td>\n",
       "      <td>0.000000</td>\n",
       "      <td>12.0</td>\n",
       "      <td>10.000000</td>\n",
       "      <td>0.514387</td>\n",
       "      <td>9.230769</td>\n",
       "      <td>0.571429</td>\n",
       "      <td>1.538462</td>\n",
       "      <td>1.00</td>\n",
       "      <td>1.923077</td>\n",
       "      <td>0.714286</td>\n",
       "      <td>2.692308</td>\n",
       "      <td>0.583333</td>\n",
       "      <td>0.384615</td>\n",
       "      <td>1.000000</td>\n",
       "      <td>9.615385</td>\n",
       "      <td>0.625000</td>\n",
       "      <td>8.076923</td>\n",
       "      <td>0.000000</td>\n",
       "      <td>0.000000</td>\n",
       "      <td>9.541925</td>\n",
       "      <td>5.634029</td>\n",
       "      <td>6.810329</td>\n",
       "      <td>-0.077250</td>\n",
       "      <td>2.930063</td>\n",
       "      <td>13</td>\n",
       "      <td>(47.247, 49.573]</td>\n",
       "    </tr>\n",
       "    <tr>\n",
       "      <td>a49006f9199a015b</td>\n",
       "      <td>1.0</td>\n",
       "      <td>W</td>\n",
       "      <td>Strikeforce - Miami</td>\n",
       "      <td>2010-01-30</td>\n",
       "      <td>KO/TKO</td>\n",
       "      <td>3</td>\n",
       "      <td>2:17</td>\n",
       "      <td>HEAVYWEIGHT BOUT</td>\n",
       "      <td>3 Rnd (5-5-5)</td>\n",
       "      <td>Troy Waugh</td>\n",
       "      <td>Punches to Body On Ground</td>\n",
       "      <td>Herschel Walker</td>\n",
       "      <td>0.0</td>\n",
       "      <td>33.0</td>\n",
       "      <td>53.0</td>\n",
       "      <td>112.0</td>\n",
       "      <td>145.0</td>\n",
       "      <td>1.0</td>\n",
       "      <td>1.0</td>\n",
       "      <td>0.0</td>\n",
       "      <td>7.0</td>\n",
       "      <td>0.0</td>\n",
       "      <td>24.0</td>\n",
       "      <td>42.0</td>\n",
       "      <td>4.0</td>\n",
       "      <td>4.0</td>\n",
       "      <td>5.0</td>\n",
       "      <td>7.0</td>\n",
       "      <td>7.0</td>\n",
       "      <td>12.0</td>\n",
       "      <td>1.0</td>\n",
       "      <td>1.0</td>\n",
       "      <td>25.0</td>\n",
       "      <td>40.0</td>\n",
       "      <td>Herschel</td>\n",
       "      <td>Walker</td>\n",
       "      <td>NaN</td>\n",
       "      <td>Orthodox</td>\n",
       "      <td>2.0</td>\n",
       "      <td>0.0</td>\n",
       "      <td>0.0</td>\n",
       "      <td>1962-03-03</td>\n",
       "      <td>3222.0</td>\n",
       "      <td>185.42</td>\n",
       "      <td>NaN</td>\n",
       "      <td>215.0</td>\n",
       "      <td>47.9</td>\n",
       "      <td>12.3</td>\n",
       "      <td>0.00</td>\n",
       "      <td>5.0</td>\n",
       "      <td>NaN</td>\n",
       "      <td>0.0</td>\n",
       "      <td>0.0</td>\n",
       "      <td>NaN</td>\n",
       "      <td>NaN</td>\n",
       "      <td>NaN</td>\n",
       "      <td>NaN</td>\n",
       "      <td>NaN</td>\n",
       "      <td>NaN</td>\n",
       "      <td>NaN</td>\n",
       "      <td>NaN</td>\n",
       "      <td>NaN</td>\n",
       "      <td>NaN</td>\n",
       "      <td>0.000000</td>\n",
       "      <td>0.500000</td>\n",
       "      <td>NaN</td>\n",
       "      <td>NaN</td>\n",
       "      <td>NaN</td>\n",
       "      <td>NaN</td>\n",
       "      <td>NaN</td>\n",
       "      <td>NaN</td>\n",
       "      <td>NaN</td>\n",
       "      <td>NaN</td>\n",
       "      <td>NaN</td>\n",
       "      <td>NaN</td>\n",
       "      <td>NaN</td>\n",
       "      <td>NaN</td>\n",
       "      <td>NaN</td>\n",
       "      <td>NaN</td>\n",
       "      <td>NaN</td>\n",
       "      <td>9.365755</td>\n",
       "      <td>-2.252067</td>\n",
       "      <td>4.016959</td>\n",
       "      <td>0.219029</td>\n",
       "      <td>2.188322</td>\n",
       "      <td>13</td>\n",
       "      <td>(47.247, 49.573]</td>\n",
       "    </tr>\n",
       "  </tbody>\n",
       "</table>\n",
       "</div>"
      ],
      "text/plain": [
       "                  Result Result_F                          Event        Date  \\\n",
       "MID                                                                            \n",
       "f0e299c134cbac37     0.0      NaN  UFC 129: St-Pierre vs Shields  2011-04-30   \n",
       "b28a6efb7197b786     1.0        W  Strikeforce - Diaz vs. Cyborg  2011-01-29   \n",
       "a49006f9199a015b     1.0        W            Strikeforce - Miami  2010-01-30   \n",
       "\n",
       "                  Method  Round  Time                    Type       T_Format  \\\n",
       "MID                                                                            \n",
       "f0e299c134cbac37  KO/TKO      2  1:05  LIGHT HEAVYWEIGHT BOUT  3 Rnd (5-5-5)   \n",
       "b28a6efb7197b786  KO/TKO      1  3:13        HEAVYWEIGHT BOUT  3 Rnd (5-5-5)   \n",
       "a49006f9199a015b  KO/TKO      3  2:17        HEAVYWEIGHT BOUT  3 Rnd (5-5-5)   \n",
       "\n",
       "                           Ref                    Details         Fighter_  \\\n",
       "MID                                                                          \n",
       "f0e299c134cbac37  Yves Lavigne   Kick to Head At Distance    Randy Couture   \n",
       "b28a6efb7197b786     Dan Stell    Punch to Head In Clinch  Herschel Walker   \n",
       "a49006f9199a015b    Troy Waugh  Punches to Body On Ground  Herschel Walker   \n",
       "\n",
       "                  KD_  SigStr_e_  SigStr_t_  TotStr_e_  TotStr_t_  TD_e_  \\\n",
       "MID                                                                        \n",
       "f0e299c134cbac37  0.0        5.0       23.0        5.0       24.0    0.0   \n",
       "b28a6efb7197b786  2.0       20.0       26.0       47.0       66.0    1.0   \n",
       "a49006f9199a015b  0.0       33.0       53.0      112.0      145.0    1.0   \n",
       "\n",
       "                  TD_t_  SUB_  PASS_  REV_  Head_e_  Head_t_  Body_e_  \\\n",
       "MID                                                                     \n",
       "f0e299c134cbac37    3.0   0.0    0.0   0.0      4.0     21.0      1.0   \n",
       "b28a6efb7197b786    1.0   0.0    0.0   0.0     14.0     20.0      1.0   \n",
       "a49006f9199a015b    1.0   0.0    7.0   0.0     24.0     42.0      4.0   \n",
       "\n",
       "                  Body_t_  Leg_e_  Leg_t_  Distance_e_  Distance_t_  \\\n",
       "MID                                                                   \n",
       "f0e299c134cbac37      2.0     0.0     0.0          5.0         21.0   \n",
       "b28a6efb7197b786      1.0     5.0     5.0          2.0          5.0   \n",
       "a49006f9199a015b      4.0     5.0     7.0          7.0         12.0   \n",
       "\n",
       "                  Clinch_e_  Clinch_t_  Ground_e_  Ground_t_   First_F  \\\n",
       "MID                                                                      \n",
       "f0e299c134cbac37        0.0        2.0        0.0        0.0     Randy   \n",
       "b28a6efb7197b786        0.0        0.0       18.0       21.0  Herschel   \n",
       "a49006f9199a015b        1.0        1.0       25.0       40.0  Herschel   \n",
       "\n",
       "                   Last_F       Nick_F  Stance_F   W_F   L_F  D_F       DOB_F  \\\n",
       "MID                                                                             \n",
       "f0e299c134cbac37  Couture  The Natural  Orthodox  19.0  11.0  0.0  1963-06-22   \n",
       "b28a6efb7197b786   Walker          NaN  Orthodox   2.0   0.0  0.0  1962-03-03   \n",
       "a49006f9199a015b   Walker          NaN  Orthodox   2.0   0.0  0.0  1962-03-03   \n",
       "\n",
       "                   FID_F  HT_cm_F  Reach_cm_F  WT_lbs_F  age_F  fight_time  \\\n",
       "MID                                                                          \n",
       "f0e299c134cbac37   600.0   185.42       190.5     205.0   47.9         6.1   \n",
       "b28a6efb7197b786  3222.0   185.42         NaN     215.0   48.9         3.2   \n",
       "a49006f9199a015b  3222.0   185.42         NaN     215.0   47.9        12.3   \n",
       "\n",
       "                  delta_h  delta_w  delta_r  w2d_F  l2d_F  time_avg_F  \\\n",
       "MID                                                                     \n",
       "f0e299c134cbac37     0.00    -20.0    -2.54   19.0   10.0   11.558333   \n",
       "b28a6efb7197b786    -2.54      0.0      NaN    1.0    0.0   12.300000   \n",
       "a49006f9199a015b     0.00      5.0      NaN    0.0    0.0         NaN   \n",
       "\n",
       "                  slpm_avg_F  stracc_avg_F  sapm_avg_F  def_avg_F  td_avg_F  \\\n",
       "MID                                                                           \n",
       "f0e299c134cbac37    2.784173      0.597222    1.388489   0.584499  2.913669   \n",
       "b28a6efb7197b786    2.538462      0.622642    0.384615   0.500000  1.153846   \n",
       "a49006f9199a015b         NaN           NaN         NaN        NaN       NaN   \n",
       "\n",
       "                  tdacc_avg_F  tddef_avg_F  sub_avg_F  lastfight_F      elo_F  \\\n",
       "MID                                                                             \n",
       "f0e299c134cbac37     0.524272      0.59375   0.593525          8.1  84.246646   \n",
       "b28a6efb7197b786     1.000000      1.00000   0.000000         12.0  10.000000   \n",
       "a49006f9199a015b          NaN          NaN        NaN          NaN   0.000000   \n",
       "\n",
       "                  eloprob_F  Head_perT_  Head_acc_  Body_perT_  Body_acc_  \\\n",
       "MID                                                                         \n",
       "f0e299c134cbac37   0.431302   10.701439   0.543379    1.546763       0.86   \n",
       "b28a6efb7197b786   0.514387    9.230769   0.571429    1.538462       1.00   \n",
       "a49006f9199a015b   0.500000         NaN        NaN         NaN        NaN   \n",
       "\n",
       "                  Leg_perT_  Leg_acc_  Distance_perT_  Distance_acc_  \\\n",
       "MID                                                                    \n",
       "f0e299c134cbac37   1.672662  0.920792        3.651079       0.404382   \n",
       "b28a6efb7197b786   1.923077  0.714286        2.692308       0.583333   \n",
       "a49006f9199a015b        NaN       NaN             NaN            NaN   \n",
       "\n",
       "                  Clinch_perT_  Clinch_acc_  Ground_perT_  Ground_acc_  \\\n",
       "MID                                                                      \n",
       "f0e299c134cbac37      4.226619     0.770492      6.043165     0.687117   \n",
       "b28a6efb7197b786      0.384615     1.000000      9.615385     0.625000   \n",
       "a49006f9199a015b           NaN          NaN           NaN          NaN   \n",
       "\n",
       "                  PASS_perT_  REV_perT_  KD_perT_    pca_0_F   pca_1_F  \\\n",
       "MID                                                                      \n",
       "f0e299c134cbac37    2.643885   0.107914  0.053957  10.590311  1.133308   \n",
       "b28a6efb7197b786    8.076923   0.000000  0.000000   9.541925  5.634029   \n",
       "a49006f9199a015b         NaN        NaN       NaN   9.365755 -2.252067   \n",
       "\n",
       "                   pca_2_F   pca_3_F   pca_4_F age_bins       age_bin_des  \n",
       "MID                                                                        \n",
       "f0e299c134cbac37  5.546109  2.383511 -1.408408       13  (47.247, 49.573]  \n",
       "b28a6efb7197b786  6.810329 -0.077250  2.930063       13  (47.247, 49.573]  \n",
       "a49006f9199a015b  4.016959  0.219029  2.188322       13  (47.247, 49.573]  "
      ]
     },
     "execution_count": 1505,
     "metadata": {},
     "output_type": "execute_result"
    }
   ],
   "source": [
    "f[f.age_bins == 13]"
   ]
  },
  {
   "cell_type": "markdown",
   "metadata": {},
   "source": [
    "##### Save Data"
   ]
  },
  {
   "cell_type": "code",
   "execution_count": 1442,
   "metadata": {},
   "outputs": [],
   "source": [
    "try: r.drop(['HT_F1','HT_F2','WT_F1','WT_F2','Reach_F1','Reach_F2'],axis=1,inplace=True)\n",
    "except: pass\n",
    "r.to_csv(f'D:/jasper/98_general_projects/03_UFC_Predictions/Data/{date}_features.csv')"
   ]
  }
 ],
 "metadata": {
  "kernelspec": {
   "display_name": "Python 3",
   "language": "python",
   "name": "python3"
  },
  "language_info": {
   "codemirror_mode": {
    "name": "ipython",
    "version": 3
   },
   "file_extension": ".py",
   "mimetype": "text/x-python",
   "name": "python",
   "nbconvert_exporter": "python",
   "pygments_lexer": "ipython3",
   "version": "3.7.1"
  }
 },
 "nbformat": 4,
 "nbformat_minor": 2
}
